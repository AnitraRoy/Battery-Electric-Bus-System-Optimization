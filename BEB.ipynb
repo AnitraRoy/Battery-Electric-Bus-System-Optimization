{
 "cells": [
  {
   "cell_type": "code",
   "execution_count": 201,
   "metadata": {
    "colab": {
     "base_uri": "https://localhost:8080/"
    },
    "id": "Z6NOUxGj6U2r",
    "outputId": "c9c2489d-b084-4f01-874b-0b0131bf7ba4"
   },
   "outputs": [
    {
     "name": "stdout",
     "output_type": "stream",
     "text": [
      "Requirement already satisfied: gurobipy in /Users/anitraroy/anaconda3/lib/python3.11/site-packages (11.0.0)\n",
      "Note: you may need to restart the kernel to use updated packages.\n"
     ]
    }
   ],
   "source": [
    "pip install gurobipy"
   ]
  },
  {
   "cell_type": "code",
   "execution_count": 202,
   "metadata": {
    "id": "_SDfeoTc7FFB"
   },
   "outputs": [],
   "source": [
    "from gurobipy import *"
   ]
  },
  {
   "cell_type": "code",
   "execution_count": 203,
   "metadata": {
    "id": "7VgfIcR3pmS-"
   },
   "outputs": [],
   "source": [
    "import gurobipy as gp\n",
    "from itertools import product"
   ]
  },
  {
   "cell_type": "code",
   "execution_count": 204,
   "metadata": {
    "colab": {
     "base_uri": "https://localhost:8080/"
    },
    "id": "HGy4aFWg7oYO",
    "outputId": "91635916-4c21-47bb-9b81-8f3da1edd3f6"
   },
   "outputs": [],
   "source": [
    "mod = Model(name=\"Deterministic Model\")"
   ]
  },
  {
   "cell_type": "code",
   "execution_count": 205,
   "metadata": {
    "id": "WSgL0clr7t93"
   },
   "outputs": [],
   "source": [
    "import pandas as pd\n",
    "f1 = pd.read_excel('or1.xlsx')\n",
    "f2 = pd.read_excel('or2.xlsx')"
   ]
  },
  {
   "cell_type": "code",
   "execution_count": 206,
   "metadata": {
    "colab": {
     "base_uri": "https://localhost:8080/",
     "height": 206
    },
    "id": "4OZ-nwWq8jin",
    "outputId": "c94fe0b4-f67e-41ff-bc2f-922bfcc67a18"
   },
   "outputs": [
    {
     "data": {
      "text/html": [
       "<div>\n",
       "<style scoped>\n",
       "    .dataframe tbody tr th:only-of-type {\n",
       "        vertical-align: middle;\n",
       "    }\n",
       "\n",
       "    .dataframe tbody tr th {\n",
       "        vertical-align: top;\n",
       "    }\n",
       "\n",
       "    .dataframe thead th {\n",
       "        text-align: right;\n",
       "    }\n",
       "</style>\n",
       "<table border=\"1\" class=\"dataframe\">\n",
       "  <thead>\n",
       "    <tr style=\"text-align: right;\">\n",
       "      <th></th>\n",
       "      <th>Depots</th>\n",
       "      <th>Route no.</th>\n",
       "      <th>Origin terminal</th>\n",
       "      <th>Intermediate terminal</th>\n",
       "    </tr>\n",
       "  </thead>\n",
       "  <tbody>\n",
       "    <tr>\n",
       "      <th>0</th>\n",
       "      <td>Hari Nagar</td>\n",
       "      <td>73</td>\n",
       "      <td>P Shahni Chow</td>\n",
       "      <td>Anand Vihar ISBT</td>\n",
       "    </tr>\n",
       "    <tr>\n",
       "      <th>1</th>\n",
       "      <td>NaN</td>\n",
       "      <td>234A</td>\n",
       "      <td>Tilak Nagar</td>\n",
       "      <td>Harsh Vihar</td>\n",
       "    </tr>\n",
       "    <tr>\n",
       "      <th>2</th>\n",
       "      <td>NaN</td>\n",
       "      <td>588</td>\n",
       "      <td>Uttam Nagar</td>\n",
       "      <td>JLN Stadium</td>\n",
       "    </tr>\n",
       "    <tr>\n",
       "      <th>3</th>\n",
       "      <td>NaN</td>\n",
       "      <td>879</td>\n",
       "      <td>Janak Puri D-Block</td>\n",
       "      <td>Rohini Sec-16</td>\n",
       "    </tr>\n",
       "    <tr>\n",
       "      <th>4</th>\n",
       "      <td>NaN</td>\n",
       "      <td>835</td>\n",
       "      <td>Tilak Nagar</td>\n",
       "      <td>Dhansa Border</td>\n",
       "    </tr>\n",
       "  </tbody>\n",
       "</table>\n",
       "</div>"
      ],
      "text/plain": [
       "       Depots Route no.     Origin terminal Intermediate terminal\n",
       "0  Hari Nagar        73       P Shahni Chow      Anand Vihar ISBT\n",
       "1         NaN      234A         Tilak Nagar           Harsh Vihar\n",
       "2         NaN       588         Uttam Nagar           JLN Stadium\n",
       "3         NaN       879  Janak Puri D-Block         Rohini Sec-16\n",
       "4         NaN       835         Tilak Nagar         Dhansa Border"
      ]
     },
     "execution_count": 206,
     "metadata": {},
     "output_type": "execute_result"
    }
   ],
   "source": [
    "f1.head()"
   ]
  },
  {
   "cell_type": "code",
   "execution_count": 207,
   "metadata": {
    "colab": {
     "base_uri": "https://localhost:8080/"
    },
    "id": "zoB2pY4tL6S0",
    "outputId": "bc92112b-e793-4371-c85e-29248f1557d2"
   },
   "outputs": [
    {
     "data": {
      "text/plain": [
       "array(['Hari Nagar', nan, 'Sukhdev Vihar', 'Subhash Place'], dtype=object)"
      ]
     },
     "execution_count": 207,
     "metadata": {},
     "output_type": "execute_result"
    }
   ],
   "source": [
    "D=f1['Depots'].unique()\n",
    "D"
   ]
  },
  {
   "cell_type": "code",
   "execution_count": 208,
   "metadata": {
    "id": "MEfQh34iPIpa"
   },
   "outputs": [],
   "source": [
    "import numpy as np"
   ]
  },
  {
   "cell_type": "code",
   "execution_count": 209,
   "metadata": {
    "colab": {
     "base_uri": "https://localhost:8080/"
    },
    "id": "iXRC26hTNC26",
    "outputId": "97ab882a-9876-45fd-b956-baa71cb46d04"
   },
   "outputs": [
    {
     "data": {
      "text/plain": [
       "array(['Hari Nagar', 'Sukhdev Vihar', 'Subhash Place'], dtype=object)"
      ]
     },
     "execution_count": 209,
     "metadata": {},
     "output_type": "execute_result"
    }
   ],
   "source": [
    "D = np.delete(D, 1)\n",
    "D"
   ]
  },
  {
   "cell_type": "code",
   "execution_count": 210,
   "metadata": {
    "colab": {
     "base_uri": "https://localhost:8080/"
    },
    "id": "KLCLtXrhPQ9Y",
    "outputId": "e3ef4f7a-9eea-4d6c-c22c-d8d5a8e8127c"
   },
   "outputs": [
    {
     "data": {
      "text/plain": [
       "18"
      ]
     },
     "execution_count": 210,
     "metadata": {},
     "output_type": "execute_result"
    }
   ],
   "source": [
    "R = f1['Route no.'].unique()\n",
    "len(R)"
   ]
  },
  {
   "cell_type": "code",
   "execution_count": 211,
   "metadata": {
    "id": "cKS6AzK-QZ0Y"
   },
   "outputs": [],
   "source": [
    "c1 = f1['Origin terminal'].unique()"
   ]
  },
  {
   "cell_type": "code",
   "execution_count": 212,
   "metadata": {
    "id": "LTLA6CO_Qu8n"
   },
   "outputs": [],
   "source": [
    "c2 = f1['Intermediate terminal'].unique()"
   ]
  },
  {
   "cell_type": "code",
   "execution_count": 213,
   "metadata": {
    "colab": {
     "base_uri": "https://localhost:8080/"
    },
    "id": "l2eOqhrdRLeM",
    "outputId": "b1571c8b-8804-46f3-e693-ee8629d49618"
   },
   "outputs": [
    {
     "name": "stdout",
     "output_type": "stream",
     "text": [
      "['P Shahni Chow' 'Tilak Nagar' 'Uttam Nagar' 'Janak Puri D-Block'\n",
      " 'Badarpur Border' 'Okhla Extn.' 'Tri Nagar Market' 'Punjabi Bagh'\n",
      " 'Wazirpur Depot']\n"
     ]
    }
   ],
   "source": [
    "print(c1)"
   ]
  },
  {
   "cell_type": "code",
   "execution_count": 214,
   "metadata": {
    "colab": {
     "base_uri": "https://localhost:8080/"
    },
    "id": "TQaonEtvRP_v",
    "outputId": "26067ea1-c098-44da-db79-a270c2f539ce"
   },
   "outputs": [
    {
     "name": "stdout",
     "output_type": "stream",
     "text": [
      "['Anand Vihar ISBT' 'Harsh Vihar' 'JLN Stadium' 'Rohini Sec-16'\n",
      " 'Dhansa Border' 'Mori Gate' 'ND Rly Station' 'Minto road' 'Dhaula Kuan'\n",
      " 'RK Puram Sec-1 ' 'Jheel' 'Hauz Khas Metro' 'Badarpur Border'\n",
      " 'RK Puram Sec-1' nan]\n"
     ]
    }
   ],
   "source": [
    "print(c2)"
   ]
  },
  {
   "cell_type": "code",
   "execution_count": 215,
   "metadata": {
    "id": "FP56Ul70RVP5"
   },
   "outputs": [],
   "source": [
    "c2 = np.delete(c2, -1)"
   ]
  },
  {
   "cell_type": "code",
   "execution_count": 216,
   "metadata": {
    "colab": {
     "base_uri": "https://localhost:8080/"
    },
    "id": "jhdCOjgYQ7an",
    "outputId": "73b4d25a-1fe2-4946-d9a0-be52c799460c"
   },
   "outputs": [
    {
     "data": {
      "text/plain": [
       "array(['Anand Vihar ISBT', 'Badarpur Border', 'Dhansa Border',\n",
       "       'Dhaula Kuan', 'Harsh Vihar', 'Hauz Khas Metro', 'JLN Stadium',\n",
       "       'Janak Puri D-Block', 'Jheel', 'Minto road', 'Mori Gate',\n",
       "       'ND Rly Station', 'Okhla Extn.', 'P Shahni Chow', 'Punjabi Bagh',\n",
       "       'RK Puram Sec-1', 'RK Puram Sec-1 ', 'Rohini Sec-16',\n",
       "       'Tilak Nagar', 'Tri Nagar Market', 'Uttam Nagar', 'Wazirpur Depot'],\n",
       "      dtype=object)"
      ]
     },
     "execution_count": 216,
     "metadata": {},
     "output_type": "execute_result"
    }
   ],
   "source": [
    "T = np.unique(np.concatenate((c1, c2)))\n",
    "T"
   ]
  },
  {
   "cell_type": "code",
   "execution_count": 217,
   "metadata": {
    "colab": {
     "base_uri": "https://localhost:8080/"
    },
    "id": "fgI2M_29Sy1m",
    "outputId": "2c120dbb-7770-4212-d1bb-5f165a673750"
   },
   "outputs": [
    {
     "data": {
      "text/plain": [
       "array(['Anand Vihar ISBT', 'Badarpur Border', 'Dhansa Border',\n",
       "       'Dhaula Kuan', 'Harsh Vihar', 'Hauz Khas Metro', 'JLN Stadium',\n",
       "       'Janak Puri D-Block', 'Jheel', 'Minto road', 'Mori Gate',\n",
       "       'ND Rly Station', 'Okhla Extn.', 'P Shahni Chow', 'Punjabi Bagh',\n",
       "       'RK Puram Sec-1', 'Rohini Sec-16', 'Tilak Nagar',\n",
       "       'Tri Nagar Market', 'Uttam Nagar', 'Wazirpur Depot'], dtype=object)"
      ]
     },
     "execution_count": 217,
     "metadata": {},
     "output_type": "execute_result"
    }
   ],
   "source": [
    "T = np.delete(T, -6)\n",
    "T"
   ]
  },
  {
   "cell_type": "code",
   "execution_count": 218,
   "metadata": {
    "colab": {
     "base_uri": "https://localhost:8080/"
    },
    "id": "nCrNefr6TA2Y",
    "outputId": "17cfce58-090a-4728-f58d-bf64183671ca"
   },
   "outputs": [
    {
     "name": "stdout",
     "output_type": "stream",
     "text": [
      "False\n"
     ]
    }
   ],
   "source": [
    "column_A = f1['Origin terminal']\n",
    "column_B = f1['Intermediate terminal']\n",
    "tr = np.column_stack((column_A, column_B))\n",
    "TR = [tuple(row) for row in tr]\n",
    "print(len(tr) != len(set(tuple(row) for row in tr)))"
   ]
  },
  {
   "cell_type": "code",
   "execution_count": 219,
   "metadata": {
    "id": "hW-ZNYfsUXpB"
   },
   "outputs": [],
   "source": [
    "arr = f1.values"
   ]
  },
  {
   "cell_type": "code",
   "execution_count": 220,
   "metadata": {
    "colab": {
     "base_uri": "https://localhost:8080/"
    },
    "id": "3etLuN-iWXF7",
    "outputId": "be65142f-4157-4ab8-ad0e-8a9a9778fee1"
   },
   "outputs": [
    {
     "name": "stdout",
     "output_type": "stream",
     "text": [
      "['Hari Nagar' 73 'P Shahni Chow' 'Anand Vihar ISBT']\n",
      "[nan '234A' 'Tilak Nagar' 'Harsh Vihar']\n",
      "[nan 588 'Uttam Nagar' 'JLN Stadium']\n",
      "[nan 879 'Janak Puri D-Block' 'Rohini Sec-16']\n",
      "[nan 835 'Tilak Nagar' 'Dhansa Border']\n",
      "[nan 'OMS (+) & (-)' 'Uttam Nagar' 'Anand Vihar ISBT']\n",
      "['Sukhdev Vihar' 405 'Badarpur Border' 'Mori Gate']\n",
      "[nan 433 'Badarpur Border' 'ND Rly Station']\n",
      "[nan 460 'Badarpur Border' 'Minto road']\n",
      "[nan 473 'Okhla Extn.' 'Anand Vihar ISBT']\n",
      "[nan 507 'Badarpur Border' 'Dhaula Kuan']\n",
      "[nan 544 'Badarpur Border' 'RK Puram Sec-1 ']\n",
      "['Subhash Place' 39 'Tri Nagar Market' 'Jheel']\n",
      "[nan 85 'Punjabi Bagh' 'Anand Vihar ISBT']\n",
      "[nan 448 'Punjabi Bagh' 'Hauz Khas Metro']\n",
      "[nan 479 'Punjabi Bagh' 'Badarpur Border']\n",
      "[nan 610 'Wazirpur Depot' 'RK Puram Sec-1']\n",
      "[nan 'TMS (-)' 'Wazirpur Depot' nan]\n"
     ]
    }
   ],
   "source": [
    "for i in arr:\n",
    "  print(i)"
   ]
  },
  {
   "cell_type": "code",
   "execution_count": 221,
   "metadata": {
    "id": "7fIcSocKlcKg"
   },
   "outputs": [],
   "source": [
    "arr[9][2] = 'Badarpur Border'\n",
    "arr[10][2] = 'Okhla Extn.'"
   ]
  },
  {
   "cell_type": "code",
   "execution_count": 222,
   "metadata": {
    "id": "NGeRXkFFWnAc"
   },
   "outputs": [],
   "source": [
    "RT = []\n",
    "for i in T:\n",
    "  x = []\n",
    "  for j in arr:\n",
    "    if j[2] == i or j[3] == i:\n",
    "      x.append(j[1])\n",
    "  RT.append(x)"
   ]
  },
  {
   "cell_type": "code",
   "execution_count": 223,
   "metadata": {
    "colab": {
     "base_uri": "https://localhost:8080/"
    },
    "id": "3_WELKyYYumd",
    "outputId": "d56f7688-17f2-4938-d926-62d1b30ad369"
   },
   "outputs": [
    {
     "data": {
      "text/plain": [
       "[[73, 'OMS (+) & (-)', 473, 85],\n",
       " [405, 433, 460, 473, 544, 479],\n",
       " [835],\n",
       " [507],\n",
       " ['234A'],\n",
       " [448],\n",
       " [588],\n",
       " [879],\n",
       " [39],\n",
       " [460],\n",
       " [405],\n",
       " [433],\n",
       " [507],\n",
       " [73],\n",
       " [85, 448, 479],\n",
       " [610],\n",
       " [879],\n",
       " ['234A', 835],\n",
       " [39],\n",
       " [588, 'OMS (+) & (-)'],\n",
       " [610, 'TMS (-)']]"
      ]
     },
     "execution_count": 223,
     "metadata": {},
     "output_type": "execute_result"
    }
   ],
   "source": [
    "RT"
   ]
  },
  {
   "cell_type": "code",
   "execution_count": 224,
   "metadata": {
    "id": "Gi3ZaVZpmHT6"
   },
   "outputs": [],
   "source": [
    "for i in range(1,6):\n",
    "  arr[i][0] = 'Hari Nagar'\n",
    "for i in range(7,12):\n",
    "  arr[i][0] = 'Sukhdev Vihar'\n",
    "for i in range(13,18):\n",
    "  arr[i][0] = 'Subhash Place'"
   ]
  },
  {
   "cell_type": "code",
   "execution_count": 225,
   "metadata": {
    "colab": {
     "base_uri": "https://localhost:8080/"
    },
    "id": "MDggh7uenMZH",
    "outputId": "29656003-cf86-4434-b1c1-7d40677bb062"
   },
   "outputs": [
    {
     "data": {
      "text/plain": [
       "array([['Hari Nagar', 73, 'P Shahni Chow', 'Anand Vihar ISBT'],\n",
       "       ['Hari Nagar', '234A', 'Tilak Nagar', 'Harsh Vihar'],\n",
       "       ['Hari Nagar', 588, 'Uttam Nagar', 'JLN Stadium'],\n",
       "       ['Hari Nagar', 879, 'Janak Puri D-Block', 'Rohini Sec-16'],\n",
       "       ['Hari Nagar', 835, 'Tilak Nagar', 'Dhansa Border'],\n",
       "       ['Hari Nagar', 'OMS (+) & (-)', 'Uttam Nagar', 'Anand Vihar ISBT'],\n",
       "       ['Sukhdev Vihar', 405, 'Badarpur Border', 'Mori Gate'],\n",
       "       ['Sukhdev Vihar', 433, 'Badarpur Border', 'ND Rly Station'],\n",
       "       ['Sukhdev Vihar', 460, 'Badarpur Border', 'Minto road'],\n",
       "       ['Sukhdev Vihar', 473, 'Badarpur Border', 'Anand Vihar ISBT'],\n",
       "       ['Sukhdev Vihar', 507, 'Okhla Extn.', 'Dhaula Kuan'],\n",
       "       ['Sukhdev Vihar', 544, 'Badarpur Border', 'RK Puram Sec-1 '],\n",
       "       ['Subhash Place', 39, 'Tri Nagar Market', 'Jheel'],\n",
       "       ['Subhash Place', 85, 'Punjabi Bagh', 'Anand Vihar ISBT'],\n",
       "       ['Subhash Place', 448, 'Punjabi Bagh', 'Hauz Khas Metro'],\n",
       "       ['Subhash Place', 479, 'Punjabi Bagh', 'Badarpur Border'],\n",
       "       ['Subhash Place', 610, 'Wazirpur Depot', 'RK Puram Sec-1'],\n",
       "       ['Subhash Place', 'TMS (-)', 'Wazirpur Depot', nan]], dtype=object)"
      ]
     },
     "execution_count": 225,
     "metadata": {},
     "output_type": "execute_result"
    }
   ],
   "source": [
    "arr"
   ]
  },
  {
   "cell_type": "code",
   "execution_count": 226,
   "metadata": {
    "colab": {
     "base_uri": "https://localhost:8080/"
    },
    "id": "NsSjA83tnRP7",
    "outputId": "4cee55aa-d8cb-4bf0-ec54-e45210302a9b"
   },
   "outputs": [
    {
     "data": {
      "text/plain": [
       "[[73, '234A', 588, 879, 835, 'OMS (+) & (-)'],\n",
       " [405, 433, 460, 473, 507, 544],\n",
       " [39, 85, 448, 479, 610, 'TMS (-)']]"
      ]
     },
     "execution_count": 226,
     "metadata": {},
     "output_type": "execute_result"
    }
   ],
   "source": [
    "RD = []\n",
    "for i in D:\n",
    "  x = []\n",
    "  for j in arr:\n",
    "    if j[0] == i:\n",
    "      x.append(j[1])\n",
    "  RD.append(x)\n",
    "RD"
   ]
  },
  {
   "cell_type": "code",
   "execution_count": 227,
   "metadata": {
    "id": "ANDxcjJ_ofF2"
   },
   "outputs": [],
   "source": [
    "dr = []\n",
    "for i in arr:\n",
    "  dr.append(i[0])\n",
    "DR = range(len(dr))"
   ]
  },
  {
   "cell_type": "code",
   "execution_count": 228,
   "metadata": {
    "colab": {
     "base_uri": "https://localhost:8080/"
    },
    "id": "iN53DYPYUYOe",
    "outputId": "e2fc1fea-bbfd-4058-929d-675f1e131eaa"
   },
   "outputs": [
    {
     "data": {
      "text/plain": [
       "['Hari Nagar',\n",
       " 'Hari Nagar',\n",
       " 'Hari Nagar',\n",
       " 'Hari Nagar',\n",
       " 'Hari Nagar',\n",
       " 'Hari Nagar',\n",
       " 'Sukhdev Vihar',\n",
       " 'Sukhdev Vihar',\n",
       " 'Sukhdev Vihar',\n",
       " 'Sukhdev Vihar',\n",
       " 'Sukhdev Vihar',\n",
       " 'Sukhdev Vihar',\n",
       " 'Subhash Place',\n",
       " 'Subhash Place',\n",
       " 'Subhash Place',\n",
       " 'Subhash Place',\n",
       " 'Subhash Place',\n",
       " 'Subhash Place']"
      ]
     },
     "execution_count": 228,
     "metadata": {},
     "output_type": "execute_result"
    }
   ],
   "source": [
    "dr"
   ]
  },
  {
   "cell_type": "code",
   "execution_count": 229,
   "metadata": {
    "id": "dGYEoqLBpYdc"
   },
   "outputs": [],
   "source": [
    "BAT = [0,1,2]\n",
    "SCS = [0,1]\n",
    "FCS = [0,1,2]\n",
    "CAPb = [120,250,350]\n",
    "# CAPb = [70,200,300]\n",
    "CPsc = [20,30]\n",
    "# CPsc = [10,20]\n",
    "CPfc = [150,300,450]\n",
    "# CPfc = [100,250,400]\n",
    "Cf1 = 2\n",
    "Cf2 = 3\n",
    "Cf3sc = [0.5,0.7]\n",
    "# Cf3sc = [0.3,0.5]\n",
    "Cf4fc = [4.5,8,12]\n",
    "# Cf4fc = [3,5,8]\n",
    "Cb = [10,20,30]\n",
    "# Cb = [8,16,24]\n",
    "Ce = 28\n",
    "Eri = 2\n",
    "ETECr = 1.5\n",
    "SOCmax = 0.9\n",
    "SOCmin = 0.2\n",
    "NCTr = 5\n",
    "ecdc = 0.05\n",
    "CTc = 0"
   ]
  },
  {
   "cell_type": "code",
   "execution_count": 230,
   "metadata": {
    "id": "EE0iDQVvyr3j"
   },
   "outputs": [],
   "source": [
    "arr2 = f2.values"
   ]
  },
  {
   "cell_type": "code",
   "execution_count": 231,
   "metadata": {
    "colab": {
     "base_uri": "https://localhost:8080/",
     "height": 206
    },
    "id": "yof1022t0BMd",
    "outputId": "49780f75-ea72-4789-b0ec-53940a4aadb6"
   },
   "outputs": [
    {
     "data": {
      "text/html": [
       "<div>\n",
       "<style scoped>\n",
       "    .dataframe tbody tr th:only-of-type {\n",
       "        vertical-align: middle;\n",
       "    }\n",
       "\n",
       "    .dataframe tbody tr th {\n",
       "        vertical-align: top;\n",
       "    }\n",
       "\n",
       "    .dataframe thead th {\n",
       "        text-align: right;\n",
       "    }\n",
       "</style>\n",
       "<table border=\"1\" class=\"dataframe\">\n",
       "  <thead>\n",
       "    <tr style=\"text-align: right;\">\n",
       "      <th></th>\n",
       "      <th>Depots</th>\n",
       "      <th>Route no.</th>\n",
       "      <th>Deadhead(km)</th>\n",
       "      <th>Length(km)</th>\n",
       "      <th>Headway(min)</th>\n",
       "      <th>Fleet size</th>\n",
       "      <th>Trips per bus</th>\n",
       "    </tr>\n",
       "  </thead>\n",
       "  <tbody>\n",
       "    <tr>\n",
       "      <th>0</th>\n",
       "      <td>Hari Nagar</td>\n",
       "      <td>73</td>\n",
       "      <td>0.9</td>\n",
       "      <td>58.8</td>\n",
       "      <td>12</td>\n",
       "      <td>20</td>\n",
       "      <td>4</td>\n",
       "    </tr>\n",
       "    <tr>\n",
       "      <th>1</th>\n",
       "      <td>NaN</td>\n",
       "      <td>234A</td>\n",
       "      <td>1.3</td>\n",
       "      <td>46.0</td>\n",
       "      <td>14</td>\n",
       "      <td>16</td>\n",
       "      <td>5</td>\n",
       "    </tr>\n",
       "    <tr>\n",
       "      <th>2</th>\n",
       "      <td>NaN</td>\n",
       "      <td>588</td>\n",
       "      <td>4.7</td>\n",
       "      <td>35.0</td>\n",
       "      <td>14</td>\n",
       "      <td>14</td>\n",
       "      <td>6</td>\n",
       "    </tr>\n",
       "    <tr>\n",
       "      <th>3</th>\n",
       "      <td>NaN</td>\n",
       "      <td>879</td>\n",
       "      <td>1.8</td>\n",
       "      <td>56.8</td>\n",
       "      <td>14</td>\n",
       "      <td>16</td>\n",
       "      <td>4</td>\n",
       "    </tr>\n",
       "    <tr>\n",
       "      <th>4</th>\n",
       "      <td>NaN</td>\n",
       "      <td>835</td>\n",
       "      <td>1.5</td>\n",
       "      <td>58.8</td>\n",
       "      <td>15</td>\n",
       "      <td>16</td>\n",
       "      <td>4</td>\n",
       "    </tr>\n",
       "  </tbody>\n",
       "</table>\n",
       "</div>"
      ],
      "text/plain": [
       "       Depots Route no.  Deadhead(km)  Length(km)  Headway(min)  Fleet size  \\\n",
       "0  Hari Nagar        73           0.9        58.8            12          20   \n",
       "1         NaN      234A           1.3        46.0            14          16   \n",
       "2         NaN       588           4.7        35.0            14          14   \n",
       "3         NaN       879           1.8        56.8            14          16   \n",
       "4         NaN       835           1.5        58.8            15          16   \n",
       "\n",
       "   Trips per bus  \n",
       "0              4  \n",
       "1              5  \n",
       "2              6  \n",
       "3              4  \n",
       "4              4  "
      ]
     },
     "execution_count": 231,
     "metadata": {},
     "output_type": "execute_result"
    }
   ],
   "source": [
    "f2.head()"
   ]
  },
  {
   "cell_type": "code",
   "execution_count": 232,
   "metadata": {
    "id": "4ywL_xDkz1lL"
   },
   "outputs": [],
   "source": [
    "DHDr = f2['Deadhead(km)'].values\n",
    "Hr = f2['Headway(min)'].values\n",
    "Fr = f2['Trips per bus'].values\n",
    "Lr = f2['Length(km)'].values\n",
    "Orir = f1['Origin terminal'].values\n",
    "Intr = f1['Intermediate terminal'].values\n",
    "Dr = f1['Depots'].values\n",
    "FSd = f2['Fleet size'].values"
   ]
  },
  {
   "cell_type": "markdown",
   "metadata": {
    "id": "-8TF6RkikPVi"
   },
   "source": [
    "y = m.addVars(P, N, R, vtype=GRB.BINARY, name='Y')"
   ]
  },
  {
   "cell_type": "code",
   "execution_count": 233,
   "metadata": {
    "id": "XZY_OhNGpGQM"
   },
   "outputs": [],
   "source": [
    "str = list(f2['Trips per bus'].values)\n",
    "# STR = range(len(str))\n",
    "# STR = []\n",
    "# for i in str:\n",
    "#   STR.append(range(0, i))"
   ]
  },
  {
   "cell_type": "code",
   "execution_count": 234,
   "metadata": {
    "id": "VM6_jKLnBtNF"
   },
   "outputs": [],
   "source": [
    "specific_pairs_e_arr = []\n",
    "for i in range(0, len(R)):\n",
    "  for j in range(1, str[i] + 1):\n",
    "    specific_pairs_e_arr.append((R[i], Orir[i], j))\n",
    "    specific_pairs_e_arr.append((R[i], Intr[i], j))\n",
    "  specific_pairs_e_arr.append((R[i], Orir[i], 0))"
   ]
  },
  {
   "cell_type": "code",
   "execution_count": 235,
   "metadata": {
    "id": "JIUtBuS_Ql_q"
   },
   "outputs": [],
   "source": [
    "specific_pairs_e_dep = []\n",
    "for i in range(0, len(R)):\n",
    "  for j in range(1, str[i] + 1):\n",
    "    specific_pairs_e_dep.append((R[i], Orir[i], j))\n",
    "    specific_pairs_e_dep.append((R[i], Intr[i], j))"
   ]
  },
  {
   "cell_type": "code",
   "execution_count": 236,
   "metadata": {
    "id": "0Cjn1xyrT7Nq"
   },
   "outputs": [],
   "source": [
    "specific_pairs_enr_t = []\n",
    "for i in range(0, len(R)):\n",
    "    specific_pairs_enr_t.append((R[i], Orir[i]))\n",
    "    specific_pairs_enr_t.append((R[i], Intr[i]))"
   ]
  },
  {
   "cell_type": "code",
   "execution_count": 237,
   "metadata": {
    "id": "f2MO7HfUUHtc"
   },
   "outputs": [],
   "source": [
    "specific_pairs_enr_d = []\n",
    "for i in range(0, len(R)):\n",
    "    specific_pairs_enr_d.append((R[i], dr[i]))"
   ]
  },
  {
   "cell_type": "code",
   "execution_count": 238,
   "metadata": {
    "id": "5o7ASImg5RG_"
   },
   "outputs": [],
   "source": [
    "x = mod.addVars(R, BAT, vtype=GRB.BINARY, name='x')\n",
    "y = mod.addVars(D, SCS, vtype=GRB.BINARY, name='y')\n",
    "z = mod.addVars(T, FCS, vtype=GRB.BINARY, name='z')\n",
    "\n",
    "m = mod.addVars(D, SCS, vtype=GRB.INTEGER, lb=0, name='m')\n",
    "n = mod.addVars(T, FCS, vtype=GRB.INTEGER, lb=0, name='n')\n",
    "# assert len(R) == len(TR) == len(STR)\n",
    "# specific_pairs_e_arr = [(R[i], TR[i], STR[i]) for i in range(len(R))]\n",
    "\n",
    "e_arr = mod.addVars(specific_pairs_e_arr, vtype=GRB.CONTINUOUS, lb=0, name='e_arr')\n",
    "e_dep = mod.addVars(specific_pairs_e_dep, vtype=GRB.CONTINUOUS, lb=0, name='e_dep')\n",
    "enr_t = mod.addVars(specific_pairs_enr_t, vtype=GRB.CONTINUOUS, lb=0, name='enr_t')\n",
    "enr_d = mod.addVars(specific_pairs_enr_d, vtype=GRB.CONTINUOUS, lb=0, name='enr_d')\n",
    "# for i in range(0, len(R)):\n",
    "#   for j in TR:\n",
    "#     for k in range(0, str[i]):\n",
    "#       e_arr = mod.addVars(R[i], j, k, vtype=GRB.INTEGER, name='e_arr')\n",
    "\n",
    "\n",
    "# e_arr = mod.addVars(specific_pairs_e_arr, vtype=GRB.INTEGER, name='e_arr')\n",
    "# e_dep = mod.addVars(R, TR, STR,vtype=GRB.INTEGER, name='e_dep')\n",
    "# enr_t = mod.addVars(R, TR, vtype=GRB.INTEGER, name='enr_t')\n",
    "# enr_d = mod.addVars(R, DR, vtype=GRB.INTEGER, name='enr_d')"
   ]
  },
  {
   "cell_type": "code",
   "execution_count": 239,
   "metadata": {
    "id": "9fbgCzOgo1vF"
   },
   "outputs": [],
   "source": [
    "mod.addConstrs(\n",
    "    (gp.quicksum(x[r, b] for b in BAT) == 1 for r in R),\n",
    "    name=\"constraint_2\");"
   ]
  },
  {
   "cell_type": "code",
   "execution_count": 240,
   "metadata": {
    "colab": {
     "base_uri": "https://localhost:8080/"
    },
    "id": "96nKqkUkp9gQ",
    "outputId": "098c845d-c127-4f7e-8510-ad7a5af717bf"
   },
   "outputs": [
    {
     "data": {
      "text/plain": [
       "{0: <gurobi.Constr *Awaiting Model Update*>,\n",
       " 1: <gurobi.Constr *Awaiting Model Update*>,\n",
       " 2: <gurobi.Constr *Awaiting Model Update*>,\n",
       " 3: <gurobi.Constr *Awaiting Model Update*>,\n",
       " 4: <gurobi.Constr *Awaiting Model Update*>,\n",
       " 5: <gurobi.Constr *Awaiting Model Update*>,\n",
       " 6: <gurobi.Constr *Awaiting Model Update*>,\n",
       " 7: <gurobi.Constr *Awaiting Model Update*>,\n",
       " 8: <gurobi.Constr *Awaiting Model Update*>,\n",
       " 9: <gurobi.Constr *Awaiting Model Update*>,\n",
       " 10: <gurobi.Constr *Awaiting Model Update*>,\n",
       " 11: <gurobi.Constr *Awaiting Model Update*>,\n",
       " 12: <gurobi.Constr *Awaiting Model Update*>,\n",
       " 13: <gurobi.Constr *Awaiting Model Update*>,\n",
       " 14: <gurobi.Constr *Awaiting Model Update*>,\n",
       " 15: <gurobi.Constr *Awaiting Model Update*>,\n",
       " 16: <gurobi.Constr *Awaiting Model Update*>,\n",
       " 17: <gurobi.Constr *Awaiting Model Update*>}"
      ]
     },
     "execution_count": 240,
     "metadata": {},
     "output_type": "execute_result"
    }
   ],
   "source": [
    "mod.addConstrs(\n",
    "    (e_arr[R[i], Orir[i], 0] == SOCmax * gp.quicksum(x[R[i],b] * CAPb[b] for b in BAT) - DHDr[i] * ETECr\n",
    "     for i in range(0, len(R))),\n",
    "    name=\"constraint_3\")"
   ]
  },
  {
   "cell_type": "code",
   "execution_count": 241,
   "metadata": {
    "colab": {
     "base_uri": "https://localhost:8080/"
    },
    "id": "7A3DcRRbf0_N",
    "outputId": "86006359-f312-405b-97ef-7cd7a2fc3bed"
   },
   "outputs": [
    {
     "data": {
      "text/plain": [
       "{0: <gurobi.Constr *Awaiting Model Update*>,\n",
       " 1: <gurobi.Constr *Awaiting Model Update*>,\n",
       " 2: <gurobi.Constr *Awaiting Model Update*>,\n",
       " 3: <gurobi.Constr *Awaiting Model Update*>,\n",
       " 4: <gurobi.Constr *Awaiting Model Update*>,\n",
       " 5: <gurobi.Constr *Awaiting Model Update*>,\n",
       " 6: <gurobi.Constr *Awaiting Model Update*>,\n",
       " 7: <gurobi.Constr *Awaiting Model Update*>,\n",
       " 8: <gurobi.Constr *Awaiting Model Update*>,\n",
       " 9: <gurobi.Constr *Awaiting Model Update*>,\n",
       " 10: <gurobi.Constr *Awaiting Model Update*>,\n",
       " 11: <gurobi.Constr *Awaiting Model Update*>,\n",
       " 12: <gurobi.Constr *Awaiting Model Update*>,\n",
       " 13: <gurobi.Constr *Awaiting Model Update*>,\n",
       " 14: <gurobi.Constr *Awaiting Model Update*>,\n",
       " 15: <gurobi.Constr *Awaiting Model Update*>,\n",
       " 16: <gurobi.Constr *Awaiting Model Update*>,\n",
       " 17: <gurobi.Constr *Awaiting Model Update*>}"
      ]
     },
     "execution_count": 241,
     "metadata": {},
     "output_type": "execute_result"
    }
   ],
   "source": [
    "mod.addConstrs((e_dep[R[i], Orir[i], 1] == e_arr[R[i], Orir[i], 0] for i in range(0, len(R))),\n",
    "               name=\"constraint_4\")"
   ]
  },
  {
   "cell_type": "code",
   "execution_count": 242,
   "metadata": {
    "colab": {
     "base_uri": "https://localhost:8080/"
    },
    "id": "5nZEmkkJ5jbU",
    "outputId": "650e7dae-412b-42b4-c7cb-5a40e3a954e7"
   },
   "outputs": [
    {
     "data": {
      "text/plain": [
       "{(0, 1): <gurobi.Constr *Awaiting Model Update*>,\n",
       " (0, 2): <gurobi.Constr *Awaiting Model Update*>,\n",
       " (0, 3): <gurobi.Constr *Awaiting Model Update*>,\n",
       " (0, 4): <gurobi.Constr *Awaiting Model Update*>,\n",
       " (1, 1): <gurobi.Constr *Awaiting Model Update*>,\n",
       " (1, 2): <gurobi.Constr *Awaiting Model Update*>,\n",
       " (1, 3): <gurobi.Constr *Awaiting Model Update*>,\n",
       " (1, 4): <gurobi.Constr *Awaiting Model Update*>,\n",
       " (1, 5): <gurobi.Constr *Awaiting Model Update*>,\n",
       " (2, 1): <gurobi.Constr *Awaiting Model Update*>,\n",
       " (2, 2): <gurobi.Constr *Awaiting Model Update*>,\n",
       " (2, 3): <gurobi.Constr *Awaiting Model Update*>,\n",
       " (2, 4): <gurobi.Constr *Awaiting Model Update*>,\n",
       " (2, 5): <gurobi.Constr *Awaiting Model Update*>,\n",
       " (2, 6): <gurobi.Constr *Awaiting Model Update*>,\n",
       " (3, 1): <gurobi.Constr *Awaiting Model Update*>,\n",
       " (3, 2): <gurobi.Constr *Awaiting Model Update*>,\n",
       " (3, 3): <gurobi.Constr *Awaiting Model Update*>,\n",
       " (3, 4): <gurobi.Constr *Awaiting Model Update*>,\n",
       " (4, 1): <gurobi.Constr *Awaiting Model Update*>,\n",
       " (4, 2): <gurobi.Constr *Awaiting Model Update*>,\n",
       " (4, 3): <gurobi.Constr *Awaiting Model Update*>,\n",
       " (4, 4): <gurobi.Constr *Awaiting Model Update*>,\n",
       " (5, 1): <gurobi.Constr *Awaiting Model Update*>,\n",
       " (5, 2): <gurobi.Constr *Awaiting Model Update*>,\n",
       " (6, 1): <gurobi.Constr *Awaiting Model Update*>,\n",
       " (6, 2): <gurobi.Constr *Awaiting Model Update*>,\n",
       " (6, 3): <gurobi.Constr *Awaiting Model Update*>,\n",
       " (6, 4): <gurobi.Constr *Awaiting Model Update*>,\n",
       " (7, 1): <gurobi.Constr *Awaiting Model Update*>,\n",
       " (7, 2): <gurobi.Constr *Awaiting Model Update*>,\n",
       " (7, 3): <gurobi.Constr *Awaiting Model Update*>,\n",
       " (7, 4): <gurobi.Constr *Awaiting Model Update*>,\n",
       " (8, 1): <gurobi.Constr *Awaiting Model Update*>,\n",
       " (8, 2): <gurobi.Constr *Awaiting Model Update*>,\n",
       " (8, 3): <gurobi.Constr *Awaiting Model Update*>,\n",
       " (8, 4): <gurobi.Constr *Awaiting Model Update*>,\n",
       " (9, 1): <gurobi.Constr *Awaiting Model Update*>,\n",
       " (9, 2): <gurobi.Constr *Awaiting Model Update*>,\n",
       " (9, 3): <gurobi.Constr *Awaiting Model Update*>,\n",
       " (9, 4): <gurobi.Constr *Awaiting Model Update*>,\n",
       " (10, 1): <gurobi.Constr *Awaiting Model Update*>,\n",
       " (10, 2): <gurobi.Constr *Awaiting Model Update*>,\n",
       " (10, 3): <gurobi.Constr *Awaiting Model Update*>,\n",
       " (10, 4): <gurobi.Constr *Awaiting Model Update*>,\n",
       " (11, 1): <gurobi.Constr *Awaiting Model Update*>,\n",
       " (11, 2): <gurobi.Constr *Awaiting Model Update*>,\n",
       " (11, 3): <gurobi.Constr *Awaiting Model Update*>,\n",
       " (11, 4): <gurobi.Constr *Awaiting Model Update*>,\n",
       " (12, 1): <gurobi.Constr *Awaiting Model Update*>,\n",
       " (12, 2): <gurobi.Constr *Awaiting Model Update*>,\n",
       " (12, 3): <gurobi.Constr *Awaiting Model Update*>,\n",
       " (12, 4): <gurobi.Constr *Awaiting Model Update*>,\n",
       " (13, 1): <gurobi.Constr *Awaiting Model Update*>,\n",
       " (13, 2): <gurobi.Constr *Awaiting Model Update*>,\n",
       " (13, 3): <gurobi.Constr *Awaiting Model Update*>,\n",
       " (13, 4): <gurobi.Constr *Awaiting Model Update*>,\n",
       " (14, 1): <gurobi.Constr *Awaiting Model Update*>,\n",
       " (14, 2): <gurobi.Constr *Awaiting Model Update*>,\n",
       " (14, 3): <gurobi.Constr *Awaiting Model Update*>,\n",
       " (14, 4): <gurobi.Constr *Awaiting Model Update*>,\n",
       " (15, 1): <gurobi.Constr *Awaiting Model Update*>,\n",
       " (15, 2): <gurobi.Constr *Awaiting Model Update*>,\n",
       " (15, 3): <gurobi.Constr *Awaiting Model Update*>,\n",
       " (16, 1): <gurobi.Constr *Awaiting Model Update*>,\n",
       " (16, 2): <gurobi.Constr *Awaiting Model Update*>,\n",
       " (16, 3): <gurobi.Constr *Awaiting Model Update*>,\n",
       " (16, 4): <gurobi.Constr *Awaiting Model Update*>,\n",
       " (16, 5): <gurobi.Constr *Awaiting Model Update*>,\n",
       " (17, 1): <gurobi.Constr *Awaiting Model Update*>,\n",
       " (17, 2): <gurobi.Constr *Awaiting Model Update*>,\n",
       " (17, 3): <gurobi.Constr *Awaiting Model Update*>,\n",
       " (17, 4): <gurobi.Constr *Awaiting Model Update*>,\n",
       " (17, 5): <gurobi.Constr *Awaiting Model Update*>}"
      ]
     },
     "execution_count": 242,
     "metadata": {},
     "output_type": "execute_result"
    }
   ],
   "source": [
    "mod.addConstrs((e_arr[R[i], Intr[i], j]== e_dep[R[i], Orir[i],j] - (Eri * Lr[i])/2 for i in range(0, len(R)) for j in range(1, str[i] + 1)),\n",
    "               name=\"constraint_5\")"
   ]
  },
  {
   "cell_type": "code",
   "execution_count": 243,
   "metadata": {
    "colab": {
     "base_uri": "https://localhost:8080/"
    },
    "id": "degAvDJlBVIe",
    "outputId": "ba9c2732-f093-4e0b-e19f-0609c3e1b4f9"
   },
   "outputs": [
    {
     "data": {
      "text/plain": [
       "{(0, 2): <gurobi.Constr *Awaiting Model Update*>,\n",
       " (0, 3): <gurobi.Constr *Awaiting Model Update*>,\n",
       " (0, 4): <gurobi.Constr *Awaiting Model Update*>,\n",
       " (1, 2): <gurobi.Constr *Awaiting Model Update*>,\n",
       " (1, 3): <gurobi.Constr *Awaiting Model Update*>,\n",
       " (1, 4): <gurobi.Constr *Awaiting Model Update*>,\n",
       " (1, 5): <gurobi.Constr *Awaiting Model Update*>,\n",
       " (2, 2): <gurobi.Constr *Awaiting Model Update*>,\n",
       " (2, 3): <gurobi.Constr *Awaiting Model Update*>,\n",
       " (2, 4): <gurobi.Constr *Awaiting Model Update*>,\n",
       " (2, 5): <gurobi.Constr *Awaiting Model Update*>,\n",
       " (2, 6): <gurobi.Constr *Awaiting Model Update*>,\n",
       " (3, 2): <gurobi.Constr *Awaiting Model Update*>,\n",
       " (3, 3): <gurobi.Constr *Awaiting Model Update*>,\n",
       " (3, 4): <gurobi.Constr *Awaiting Model Update*>,\n",
       " (4, 2): <gurobi.Constr *Awaiting Model Update*>,\n",
       " (4, 3): <gurobi.Constr *Awaiting Model Update*>,\n",
       " (4, 4): <gurobi.Constr *Awaiting Model Update*>,\n",
       " (5, 2): <gurobi.Constr *Awaiting Model Update*>,\n",
       " (6, 2): <gurobi.Constr *Awaiting Model Update*>,\n",
       " (6, 3): <gurobi.Constr *Awaiting Model Update*>,\n",
       " (6, 4): <gurobi.Constr *Awaiting Model Update*>,\n",
       " (7, 2): <gurobi.Constr *Awaiting Model Update*>,\n",
       " (7, 3): <gurobi.Constr *Awaiting Model Update*>,\n",
       " (7, 4): <gurobi.Constr *Awaiting Model Update*>,\n",
       " (8, 2): <gurobi.Constr *Awaiting Model Update*>,\n",
       " (8, 3): <gurobi.Constr *Awaiting Model Update*>,\n",
       " (8, 4): <gurobi.Constr *Awaiting Model Update*>,\n",
       " (9, 2): <gurobi.Constr *Awaiting Model Update*>,\n",
       " (9, 3): <gurobi.Constr *Awaiting Model Update*>,\n",
       " (9, 4): <gurobi.Constr *Awaiting Model Update*>,\n",
       " (10, 2): <gurobi.Constr *Awaiting Model Update*>,\n",
       " (10, 3): <gurobi.Constr *Awaiting Model Update*>,\n",
       " (10, 4): <gurobi.Constr *Awaiting Model Update*>,\n",
       " (11, 2): <gurobi.Constr *Awaiting Model Update*>,\n",
       " (11, 3): <gurobi.Constr *Awaiting Model Update*>,\n",
       " (11, 4): <gurobi.Constr *Awaiting Model Update*>,\n",
       " (12, 2): <gurobi.Constr *Awaiting Model Update*>,\n",
       " (12, 3): <gurobi.Constr *Awaiting Model Update*>,\n",
       " (12, 4): <gurobi.Constr *Awaiting Model Update*>,\n",
       " (13, 2): <gurobi.Constr *Awaiting Model Update*>,\n",
       " (13, 3): <gurobi.Constr *Awaiting Model Update*>,\n",
       " (13, 4): <gurobi.Constr *Awaiting Model Update*>,\n",
       " (14, 2): <gurobi.Constr *Awaiting Model Update*>,\n",
       " (14, 3): <gurobi.Constr *Awaiting Model Update*>,\n",
       " (14, 4): <gurobi.Constr *Awaiting Model Update*>,\n",
       " (15, 2): <gurobi.Constr *Awaiting Model Update*>,\n",
       " (15, 3): <gurobi.Constr *Awaiting Model Update*>,\n",
       " (16, 2): <gurobi.Constr *Awaiting Model Update*>,\n",
       " (16, 3): <gurobi.Constr *Awaiting Model Update*>,\n",
       " (16, 4): <gurobi.Constr *Awaiting Model Update*>,\n",
       " (16, 5): <gurobi.Constr *Awaiting Model Update*>,\n",
       " (17, 2): <gurobi.Constr *Awaiting Model Update*>,\n",
       " (17, 3): <gurobi.Constr *Awaiting Model Update*>,\n",
       " (17, 4): <gurobi.Constr *Awaiting Model Update*>,\n",
       " (17, 5): <gurobi.Constr *Awaiting Model Update*>}"
      ]
     },
     "execution_count": 243,
     "metadata": {},
     "output_type": "execute_result"
    }
   ],
   "source": [
    "mod.addConstrs((e_dep[R[i], Intr[i], j] == e_arr[R[i], Intr[i], j] + enr_t[R[i], Intr[i]] for i in range(0, len(R)) for j in range(2, str[i] + 1)),\n",
    "               name=\"constraint_6\")"
   ]
  },
  {
   "cell_type": "code",
   "execution_count": 244,
   "metadata": {
    "colab": {
     "base_uri": "https://localhost:8080/"
    },
    "id": "trhrpChZDn6G",
    "outputId": "3a7d7b30-c877-4664-8a92-adadd85135e1"
   },
   "outputs": [
    {
     "data": {
      "text/plain": [
       "{(0, 1): <gurobi.Constr *Awaiting Model Update*>,\n",
       " (0, 2): <gurobi.Constr *Awaiting Model Update*>,\n",
       " (0, 3): <gurobi.Constr *Awaiting Model Update*>,\n",
       " (0, 4): <gurobi.Constr *Awaiting Model Update*>,\n",
       " (1, 1): <gurobi.Constr *Awaiting Model Update*>,\n",
       " (1, 2): <gurobi.Constr *Awaiting Model Update*>,\n",
       " (1, 3): <gurobi.Constr *Awaiting Model Update*>,\n",
       " (1, 4): <gurobi.Constr *Awaiting Model Update*>,\n",
       " (1, 5): <gurobi.Constr *Awaiting Model Update*>,\n",
       " (2, 1): <gurobi.Constr *Awaiting Model Update*>,\n",
       " (2, 2): <gurobi.Constr *Awaiting Model Update*>,\n",
       " (2, 3): <gurobi.Constr *Awaiting Model Update*>,\n",
       " (2, 4): <gurobi.Constr *Awaiting Model Update*>,\n",
       " (2, 5): <gurobi.Constr *Awaiting Model Update*>,\n",
       " (2, 6): <gurobi.Constr *Awaiting Model Update*>,\n",
       " (3, 1): <gurobi.Constr *Awaiting Model Update*>,\n",
       " (3, 2): <gurobi.Constr *Awaiting Model Update*>,\n",
       " (3, 3): <gurobi.Constr *Awaiting Model Update*>,\n",
       " (3, 4): <gurobi.Constr *Awaiting Model Update*>,\n",
       " (4, 1): <gurobi.Constr *Awaiting Model Update*>,\n",
       " (4, 2): <gurobi.Constr *Awaiting Model Update*>,\n",
       " (4, 3): <gurobi.Constr *Awaiting Model Update*>,\n",
       " (4, 4): <gurobi.Constr *Awaiting Model Update*>,\n",
       " (5, 1): <gurobi.Constr *Awaiting Model Update*>,\n",
       " (5, 2): <gurobi.Constr *Awaiting Model Update*>,\n",
       " (6, 1): <gurobi.Constr *Awaiting Model Update*>,\n",
       " (6, 2): <gurobi.Constr *Awaiting Model Update*>,\n",
       " (6, 3): <gurobi.Constr *Awaiting Model Update*>,\n",
       " (6, 4): <gurobi.Constr *Awaiting Model Update*>,\n",
       " (7, 1): <gurobi.Constr *Awaiting Model Update*>,\n",
       " (7, 2): <gurobi.Constr *Awaiting Model Update*>,\n",
       " (7, 3): <gurobi.Constr *Awaiting Model Update*>,\n",
       " (7, 4): <gurobi.Constr *Awaiting Model Update*>,\n",
       " (8, 1): <gurobi.Constr *Awaiting Model Update*>,\n",
       " (8, 2): <gurobi.Constr *Awaiting Model Update*>,\n",
       " (8, 3): <gurobi.Constr *Awaiting Model Update*>,\n",
       " (8, 4): <gurobi.Constr *Awaiting Model Update*>,\n",
       " (9, 1): <gurobi.Constr *Awaiting Model Update*>,\n",
       " (9, 2): <gurobi.Constr *Awaiting Model Update*>,\n",
       " (9, 3): <gurobi.Constr *Awaiting Model Update*>,\n",
       " (9, 4): <gurobi.Constr *Awaiting Model Update*>,\n",
       " (10, 1): <gurobi.Constr *Awaiting Model Update*>,\n",
       " (10, 2): <gurobi.Constr *Awaiting Model Update*>,\n",
       " (10, 3): <gurobi.Constr *Awaiting Model Update*>,\n",
       " (10, 4): <gurobi.Constr *Awaiting Model Update*>,\n",
       " (11, 1): <gurobi.Constr *Awaiting Model Update*>,\n",
       " (11, 2): <gurobi.Constr *Awaiting Model Update*>,\n",
       " (11, 3): <gurobi.Constr *Awaiting Model Update*>,\n",
       " (11, 4): <gurobi.Constr *Awaiting Model Update*>,\n",
       " (12, 1): <gurobi.Constr *Awaiting Model Update*>,\n",
       " (12, 2): <gurobi.Constr *Awaiting Model Update*>,\n",
       " (12, 3): <gurobi.Constr *Awaiting Model Update*>,\n",
       " (12, 4): <gurobi.Constr *Awaiting Model Update*>,\n",
       " (13, 1): <gurobi.Constr *Awaiting Model Update*>,\n",
       " (13, 2): <gurobi.Constr *Awaiting Model Update*>,\n",
       " (13, 3): <gurobi.Constr *Awaiting Model Update*>,\n",
       " (13, 4): <gurobi.Constr *Awaiting Model Update*>,\n",
       " (14, 1): <gurobi.Constr *Awaiting Model Update*>,\n",
       " (14, 2): <gurobi.Constr *Awaiting Model Update*>,\n",
       " (14, 3): <gurobi.Constr *Awaiting Model Update*>,\n",
       " (14, 4): <gurobi.Constr *Awaiting Model Update*>,\n",
       " (15, 1): <gurobi.Constr *Awaiting Model Update*>,\n",
       " (15, 2): <gurobi.Constr *Awaiting Model Update*>,\n",
       " (15, 3): <gurobi.Constr *Awaiting Model Update*>,\n",
       " (16, 1): <gurobi.Constr *Awaiting Model Update*>,\n",
       " (16, 2): <gurobi.Constr *Awaiting Model Update*>,\n",
       " (16, 3): <gurobi.Constr *Awaiting Model Update*>,\n",
       " (16, 4): <gurobi.Constr *Awaiting Model Update*>,\n",
       " (16, 5): <gurobi.Constr *Awaiting Model Update*>,\n",
       " (17, 1): <gurobi.Constr *Awaiting Model Update*>,\n",
       " (17, 2): <gurobi.Constr *Awaiting Model Update*>,\n",
       " (17, 3): <gurobi.Constr *Awaiting Model Update*>,\n",
       " (17, 4): <gurobi.Constr *Awaiting Model Update*>,\n",
       " (17, 5): <gurobi.Constr *Awaiting Model Update*>}"
      ]
     },
     "execution_count": 244,
     "metadata": {},
     "output_type": "execute_result"
    }
   ],
   "source": [
    "mod.addConstrs((e_arr[R[i], Orir[i], j] == e_dep[R[i], Intr[i],j] - (Eri*Lr[i])/2 for i in range(0, len(R)) for j in range(1, str[i] + 1)),\n",
    "               name=\"constraint_7\")"
   ]
  },
  {
   "cell_type": "code",
   "execution_count": 245,
   "metadata": {
    "colab": {
     "base_uri": "https://localhost:8080/"
    },
    "id": "chZVqoodEyvM",
    "outputId": "70453956-ad95-433f-ea57-24a570cea45e"
   },
   "outputs": [
    {
     "data": {
      "text/plain": [
       "{(0, 2): <gurobi.Constr *Awaiting Model Update*>,\n",
       " (0, 3): <gurobi.Constr *Awaiting Model Update*>,\n",
       " (0, 4): <gurobi.Constr *Awaiting Model Update*>,\n",
       " (1, 2): <gurobi.Constr *Awaiting Model Update*>,\n",
       " (1, 3): <gurobi.Constr *Awaiting Model Update*>,\n",
       " (1, 4): <gurobi.Constr *Awaiting Model Update*>,\n",
       " (1, 5): <gurobi.Constr *Awaiting Model Update*>,\n",
       " (2, 2): <gurobi.Constr *Awaiting Model Update*>,\n",
       " (2, 3): <gurobi.Constr *Awaiting Model Update*>,\n",
       " (2, 4): <gurobi.Constr *Awaiting Model Update*>,\n",
       " (2, 5): <gurobi.Constr *Awaiting Model Update*>,\n",
       " (2, 6): <gurobi.Constr *Awaiting Model Update*>,\n",
       " (3, 2): <gurobi.Constr *Awaiting Model Update*>,\n",
       " (3, 3): <gurobi.Constr *Awaiting Model Update*>,\n",
       " (3, 4): <gurobi.Constr *Awaiting Model Update*>,\n",
       " (4, 2): <gurobi.Constr *Awaiting Model Update*>,\n",
       " (4, 3): <gurobi.Constr *Awaiting Model Update*>,\n",
       " (4, 4): <gurobi.Constr *Awaiting Model Update*>,\n",
       " (5, 2): <gurobi.Constr *Awaiting Model Update*>,\n",
       " (6, 2): <gurobi.Constr *Awaiting Model Update*>,\n",
       " (6, 3): <gurobi.Constr *Awaiting Model Update*>,\n",
       " (6, 4): <gurobi.Constr *Awaiting Model Update*>,\n",
       " (7, 2): <gurobi.Constr *Awaiting Model Update*>,\n",
       " (7, 3): <gurobi.Constr *Awaiting Model Update*>,\n",
       " (7, 4): <gurobi.Constr *Awaiting Model Update*>,\n",
       " (8, 2): <gurobi.Constr *Awaiting Model Update*>,\n",
       " (8, 3): <gurobi.Constr *Awaiting Model Update*>,\n",
       " (8, 4): <gurobi.Constr *Awaiting Model Update*>,\n",
       " (9, 2): <gurobi.Constr *Awaiting Model Update*>,\n",
       " (9, 3): <gurobi.Constr *Awaiting Model Update*>,\n",
       " (9, 4): <gurobi.Constr *Awaiting Model Update*>,\n",
       " (10, 2): <gurobi.Constr *Awaiting Model Update*>,\n",
       " (10, 3): <gurobi.Constr *Awaiting Model Update*>,\n",
       " (10, 4): <gurobi.Constr *Awaiting Model Update*>,\n",
       " (11, 2): <gurobi.Constr *Awaiting Model Update*>,\n",
       " (11, 3): <gurobi.Constr *Awaiting Model Update*>,\n",
       " (11, 4): <gurobi.Constr *Awaiting Model Update*>,\n",
       " (12, 2): <gurobi.Constr *Awaiting Model Update*>,\n",
       " (12, 3): <gurobi.Constr *Awaiting Model Update*>,\n",
       " (12, 4): <gurobi.Constr *Awaiting Model Update*>,\n",
       " (13, 2): <gurobi.Constr *Awaiting Model Update*>,\n",
       " (13, 3): <gurobi.Constr *Awaiting Model Update*>,\n",
       " (13, 4): <gurobi.Constr *Awaiting Model Update*>,\n",
       " (14, 2): <gurobi.Constr *Awaiting Model Update*>,\n",
       " (14, 3): <gurobi.Constr *Awaiting Model Update*>,\n",
       " (14, 4): <gurobi.Constr *Awaiting Model Update*>,\n",
       " (15, 2): <gurobi.Constr *Awaiting Model Update*>,\n",
       " (15, 3): <gurobi.Constr *Awaiting Model Update*>,\n",
       " (16, 2): <gurobi.Constr *Awaiting Model Update*>,\n",
       " (16, 3): <gurobi.Constr *Awaiting Model Update*>,\n",
       " (16, 4): <gurobi.Constr *Awaiting Model Update*>,\n",
       " (16, 5): <gurobi.Constr *Awaiting Model Update*>,\n",
       " (17, 2): <gurobi.Constr *Awaiting Model Update*>,\n",
       " (17, 3): <gurobi.Constr *Awaiting Model Update*>,\n",
       " (17, 4): <gurobi.Constr *Awaiting Model Update*>,\n",
       " (17, 5): <gurobi.Constr *Awaiting Model Update*>}"
      ]
     },
     "execution_count": 245,
     "metadata": {},
     "output_type": "execute_result"
    }
   ],
   "source": [
    "mod.addConstrs((e_dep[R[i], Orir[i], j] == e_arr[R[i], Orir[i], j - 1] + enr_t[R[i], Orir[i]] for i in range(0, len(R)) for j in range(2, str[i] + 1)),\n",
    "               name=\"constraint_8\")"
   ]
  },
  {
   "cell_type": "code",
   "execution_count": 246,
   "metadata": {
    "colab": {
     "base_uri": "https://localhost:8080/"
    },
    "id": "tx98w5VLFCaO",
    "outputId": "8e6a8157-e240-4abc-8798-c70d93ff603a"
   },
   "outputs": [
    {
     "data": {
      "text/plain": [
       "{0: <gurobi.Constr *Awaiting Model Update*>,\n",
       " 1: <gurobi.Constr *Awaiting Model Update*>,\n",
       " 2: <gurobi.Constr *Awaiting Model Update*>,\n",
       " 3: <gurobi.Constr *Awaiting Model Update*>,\n",
       " 4: <gurobi.Constr *Awaiting Model Update*>,\n",
       " 5: <gurobi.Constr *Awaiting Model Update*>,\n",
       " 6: <gurobi.Constr *Awaiting Model Update*>,\n",
       " 7: <gurobi.Constr *Awaiting Model Update*>,\n",
       " 8: <gurobi.Constr *Awaiting Model Update*>,\n",
       " 9: <gurobi.Constr *Awaiting Model Update*>,\n",
       " 10: <gurobi.Constr *Awaiting Model Update*>,\n",
       " 11: <gurobi.Constr *Awaiting Model Update*>,\n",
       " 12: <gurobi.Constr *Awaiting Model Update*>,\n",
       " 13: <gurobi.Constr *Awaiting Model Update*>,\n",
       " 14: <gurobi.Constr *Awaiting Model Update*>,\n",
       " 15: <gurobi.Constr *Awaiting Model Update*>,\n",
       " 16: <gurobi.Constr *Awaiting Model Update*>,\n",
       " 17: <gurobi.Constr *Awaiting Model Update*>}"
      ]
     },
     "execution_count": 246,
     "metadata": {},
     "output_type": "execute_result"
    }
   ],
   "source": [
    "mod.addConstrs((e_arr[R[i], Orir[i], str[i]] - DHDr[i] * ETECr + enr_d[R[i], dr[i]] == (SOCmax * (gp.quicksum(x[R[i], b] * CAPb[b] for b in BAT))) for i in range(0, len(R))),\n",
    "               name=\"constraint_9\")"
   ]
  },
  {
   "cell_type": "code",
   "execution_count": 247,
   "metadata": {
    "colab": {
     "base_uri": "https://localhost:8080/"
    },
    "id": "IHaBTP8pCw9A",
    "outputId": "84ac4fbb-92c9-48e2-df57-39d4a56e6619"
   },
   "outputs": [
    {
     "data": {
      "text/plain": [
       "{(73, 'P Shahni Chow', 1): <gurobi.Constr *Awaiting Model Update*>,\n",
       " (73, 'Anand Vihar ISBT', 1): <gurobi.Constr *Awaiting Model Update*>,\n",
       " (73, 'P Shahni Chow', 2): <gurobi.Constr *Awaiting Model Update*>,\n",
       " (73, 'Anand Vihar ISBT', 2): <gurobi.Constr *Awaiting Model Update*>,\n",
       " (73, 'P Shahni Chow', 3): <gurobi.Constr *Awaiting Model Update*>,\n",
       " (73, 'Anand Vihar ISBT', 3): <gurobi.Constr *Awaiting Model Update*>,\n",
       " (73, 'P Shahni Chow', 4): <gurobi.Constr *Awaiting Model Update*>,\n",
       " (73, 'Anand Vihar ISBT', 4): <gurobi.Constr *Awaiting Model Update*>,\n",
       " (73, 'P Shahni Chow', 0): <gurobi.Constr *Awaiting Model Update*>,\n",
       " ('234A', 'Tilak Nagar', 1): <gurobi.Constr *Awaiting Model Update*>,\n",
       " ('234A', 'Harsh Vihar', 1): <gurobi.Constr *Awaiting Model Update*>,\n",
       " ('234A', 'Tilak Nagar', 2): <gurobi.Constr *Awaiting Model Update*>,\n",
       " ('234A', 'Harsh Vihar', 2): <gurobi.Constr *Awaiting Model Update*>,\n",
       " ('234A', 'Tilak Nagar', 3): <gurobi.Constr *Awaiting Model Update*>,\n",
       " ('234A', 'Harsh Vihar', 3): <gurobi.Constr *Awaiting Model Update*>,\n",
       " ('234A', 'Tilak Nagar', 4): <gurobi.Constr *Awaiting Model Update*>,\n",
       " ('234A', 'Harsh Vihar', 4): <gurobi.Constr *Awaiting Model Update*>,\n",
       " ('234A', 'Tilak Nagar', 5): <gurobi.Constr *Awaiting Model Update*>,\n",
       " ('234A', 'Harsh Vihar', 5): <gurobi.Constr *Awaiting Model Update*>,\n",
       " ('234A', 'Tilak Nagar', 0): <gurobi.Constr *Awaiting Model Update*>,\n",
       " (588, 'Uttam Nagar', 1): <gurobi.Constr *Awaiting Model Update*>,\n",
       " (588, 'JLN Stadium', 1): <gurobi.Constr *Awaiting Model Update*>,\n",
       " (588, 'Uttam Nagar', 2): <gurobi.Constr *Awaiting Model Update*>,\n",
       " (588, 'JLN Stadium', 2): <gurobi.Constr *Awaiting Model Update*>,\n",
       " (588, 'Uttam Nagar', 3): <gurobi.Constr *Awaiting Model Update*>,\n",
       " (588, 'JLN Stadium', 3): <gurobi.Constr *Awaiting Model Update*>,\n",
       " (588, 'Uttam Nagar', 4): <gurobi.Constr *Awaiting Model Update*>,\n",
       " (588, 'JLN Stadium', 4): <gurobi.Constr *Awaiting Model Update*>,\n",
       " (588, 'Uttam Nagar', 5): <gurobi.Constr *Awaiting Model Update*>,\n",
       " (588, 'JLN Stadium', 5): <gurobi.Constr *Awaiting Model Update*>,\n",
       " (588, 'Uttam Nagar', 6): <gurobi.Constr *Awaiting Model Update*>,\n",
       " (588, 'JLN Stadium', 6): <gurobi.Constr *Awaiting Model Update*>,\n",
       " (588, 'Uttam Nagar', 0): <gurobi.Constr *Awaiting Model Update*>,\n",
       " (879, 'Janak Puri D-Block', 1): <gurobi.Constr *Awaiting Model Update*>,\n",
       " (879, 'Rohini Sec-16', 1): <gurobi.Constr *Awaiting Model Update*>,\n",
       " (879, 'Janak Puri D-Block', 2): <gurobi.Constr *Awaiting Model Update*>,\n",
       " (879, 'Rohini Sec-16', 2): <gurobi.Constr *Awaiting Model Update*>,\n",
       " (879, 'Janak Puri D-Block', 3): <gurobi.Constr *Awaiting Model Update*>,\n",
       " (879, 'Rohini Sec-16', 3): <gurobi.Constr *Awaiting Model Update*>,\n",
       " (879, 'Janak Puri D-Block', 4): <gurobi.Constr *Awaiting Model Update*>,\n",
       " (879, 'Rohini Sec-16', 4): <gurobi.Constr *Awaiting Model Update*>,\n",
       " (879, 'Janak Puri D-Block', 0): <gurobi.Constr *Awaiting Model Update*>,\n",
       " (835, 'Tilak Nagar', 1): <gurobi.Constr *Awaiting Model Update*>,\n",
       " (835, 'Dhansa Border', 1): <gurobi.Constr *Awaiting Model Update*>,\n",
       " (835, 'Tilak Nagar', 2): <gurobi.Constr *Awaiting Model Update*>,\n",
       " (835, 'Dhansa Border', 2): <gurobi.Constr *Awaiting Model Update*>,\n",
       " (835, 'Tilak Nagar', 3): <gurobi.Constr *Awaiting Model Update*>,\n",
       " (835, 'Dhansa Border', 3): <gurobi.Constr *Awaiting Model Update*>,\n",
       " (835, 'Tilak Nagar', 4): <gurobi.Constr *Awaiting Model Update*>,\n",
       " (835, 'Dhansa Border', 4): <gurobi.Constr *Awaiting Model Update*>,\n",
       " (835, 'Tilak Nagar', 0): <gurobi.Constr *Awaiting Model Update*>,\n",
       " ('OMS (+) & (-)', 'Uttam Nagar', 1): <gurobi.Constr *Awaiting Model Update*>,\n",
       " ('OMS (+) & (-)',\n",
       "  'Anand Vihar ISBT',\n",
       "  1): <gurobi.Constr *Awaiting Model Update*>,\n",
       " ('OMS (+) & (-)', 'Uttam Nagar', 2): <gurobi.Constr *Awaiting Model Update*>,\n",
       " ('OMS (+) & (-)',\n",
       "  'Anand Vihar ISBT',\n",
       "  2): <gurobi.Constr *Awaiting Model Update*>,\n",
       " ('OMS (+) & (-)', 'Uttam Nagar', 0): <gurobi.Constr *Awaiting Model Update*>,\n",
       " (405, 'Badarpur Border', 1): <gurobi.Constr *Awaiting Model Update*>,\n",
       " (405, 'Mori Gate', 1): <gurobi.Constr *Awaiting Model Update*>,\n",
       " (405, 'Badarpur Border', 2): <gurobi.Constr *Awaiting Model Update*>,\n",
       " (405, 'Mori Gate', 2): <gurobi.Constr *Awaiting Model Update*>,\n",
       " (405, 'Badarpur Border', 3): <gurobi.Constr *Awaiting Model Update*>,\n",
       " (405, 'Mori Gate', 3): <gurobi.Constr *Awaiting Model Update*>,\n",
       " (405, 'Badarpur Border', 4): <gurobi.Constr *Awaiting Model Update*>,\n",
       " (405, 'Mori Gate', 4): <gurobi.Constr *Awaiting Model Update*>,\n",
       " (405, 'Badarpur Border', 0): <gurobi.Constr *Awaiting Model Update*>,\n",
       " (433, 'Badarpur Border', 1): <gurobi.Constr *Awaiting Model Update*>,\n",
       " (433, 'ND Rly Station', 1): <gurobi.Constr *Awaiting Model Update*>,\n",
       " (433, 'Badarpur Border', 2): <gurobi.Constr *Awaiting Model Update*>,\n",
       " (433, 'ND Rly Station', 2): <gurobi.Constr *Awaiting Model Update*>,\n",
       " (433, 'Badarpur Border', 3): <gurobi.Constr *Awaiting Model Update*>,\n",
       " (433, 'ND Rly Station', 3): <gurobi.Constr *Awaiting Model Update*>,\n",
       " (433, 'Badarpur Border', 4): <gurobi.Constr *Awaiting Model Update*>,\n",
       " (433, 'ND Rly Station', 4): <gurobi.Constr *Awaiting Model Update*>,\n",
       " (433, 'Badarpur Border', 0): <gurobi.Constr *Awaiting Model Update*>,\n",
       " (460, 'Badarpur Border', 1): <gurobi.Constr *Awaiting Model Update*>,\n",
       " (460, 'Minto road', 1): <gurobi.Constr *Awaiting Model Update*>,\n",
       " (460, 'Badarpur Border', 2): <gurobi.Constr *Awaiting Model Update*>,\n",
       " (460, 'Minto road', 2): <gurobi.Constr *Awaiting Model Update*>,\n",
       " (460, 'Badarpur Border', 3): <gurobi.Constr *Awaiting Model Update*>,\n",
       " (460, 'Minto road', 3): <gurobi.Constr *Awaiting Model Update*>,\n",
       " (460, 'Badarpur Border', 4): <gurobi.Constr *Awaiting Model Update*>,\n",
       " (460, 'Minto road', 4): <gurobi.Constr *Awaiting Model Update*>,\n",
       " (460, 'Badarpur Border', 0): <gurobi.Constr *Awaiting Model Update*>,\n",
       " (473, 'Badarpur Border', 1): <gurobi.Constr *Awaiting Model Update*>,\n",
       " (473, 'Anand Vihar ISBT', 1): <gurobi.Constr *Awaiting Model Update*>,\n",
       " (473, 'Badarpur Border', 2): <gurobi.Constr *Awaiting Model Update*>,\n",
       " (473, 'Anand Vihar ISBT', 2): <gurobi.Constr *Awaiting Model Update*>,\n",
       " (473, 'Badarpur Border', 3): <gurobi.Constr *Awaiting Model Update*>,\n",
       " (473, 'Anand Vihar ISBT', 3): <gurobi.Constr *Awaiting Model Update*>,\n",
       " (473, 'Badarpur Border', 4): <gurobi.Constr *Awaiting Model Update*>,\n",
       " (473, 'Anand Vihar ISBT', 4): <gurobi.Constr *Awaiting Model Update*>,\n",
       " (473, 'Badarpur Border', 0): <gurobi.Constr *Awaiting Model Update*>,\n",
       " (507, 'Okhla Extn.', 1): <gurobi.Constr *Awaiting Model Update*>,\n",
       " (507, 'Dhaula Kuan', 1): <gurobi.Constr *Awaiting Model Update*>,\n",
       " (507, 'Okhla Extn.', 2): <gurobi.Constr *Awaiting Model Update*>,\n",
       " (507, 'Dhaula Kuan', 2): <gurobi.Constr *Awaiting Model Update*>,\n",
       " (507, 'Okhla Extn.', 3): <gurobi.Constr *Awaiting Model Update*>,\n",
       " (507, 'Dhaula Kuan', 3): <gurobi.Constr *Awaiting Model Update*>,\n",
       " (507, 'Okhla Extn.', 4): <gurobi.Constr *Awaiting Model Update*>,\n",
       " (507, 'Dhaula Kuan', 4): <gurobi.Constr *Awaiting Model Update*>,\n",
       " (507, 'Okhla Extn.', 0): <gurobi.Constr *Awaiting Model Update*>,\n",
       " (544, 'Badarpur Border', 1): <gurobi.Constr *Awaiting Model Update*>,\n",
       " (544, 'RK Puram Sec-1 ', 1): <gurobi.Constr *Awaiting Model Update*>,\n",
       " (544, 'Badarpur Border', 2): <gurobi.Constr *Awaiting Model Update*>,\n",
       " (544, 'RK Puram Sec-1 ', 2): <gurobi.Constr *Awaiting Model Update*>,\n",
       " (544, 'Badarpur Border', 3): <gurobi.Constr *Awaiting Model Update*>,\n",
       " (544, 'RK Puram Sec-1 ', 3): <gurobi.Constr *Awaiting Model Update*>,\n",
       " (544, 'Badarpur Border', 4): <gurobi.Constr *Awaiting Model Update*>,\n",
       " (544, 'RK Puram Sec-1 ', 4): <gurobi.Constr *Awaiting Model Update*>,\n",
       " (544, 'Badarpur Border', 0): <gurobi.Constr *Awaiting Model Update*>,\n",
       " (39, 'Tri Nagar Market', 1): <gurobi.Constr *Awaiting Model Update*>,\n",
       " (39, 'Jheel', 1): <gurobi.Constr *Awaiting Model Update*>,\n",
       " (39, 'Tri Nagar Market', 2): <gurobi.Constr *Awaiting Model Update*>,\n",
       " (39, 'Jheel', 2): <gurobi.Constr *Awaiting Model Update*>,\n",
       " (39, 'Tri Nagar Market', 3): <gurobi.Constr *Awaiting Model Update*>,\n",
       " (39, 'Jheel', 3): <gurobi.Constr *Awaiting Model Update*>,\n",
       " (39, 'Tri Nagar Market', 4): <gurobi.Constr *Awaiting Model Update*>,\n",
       " (39, 'Jheel', 4): <gurobi.Constr *Awaiting Model Update*>,\n",
       " (39, 'Tri Nagar Market', 0): <gurobi.Constr *Awaiting Model Update*>,\n",
       " (85, 'Punjabi Bagh', 1): <gurobi.Constr *Awaiting Model Update*>,\n",
       " (85, 'Anand Vihar ISBT', 1): <gurobi.Constr *Awaiting Model Update*>,\n",
       " (85, 'Punjabi Bagh', 2): <gurobi.Constr *Awaiting Model Update*>,\n",
       " (85, 'Anand Vihar ISBT', 2): <gurobi.Constr *Awaiting Model Update*>,\n",
       " (85, 'Punjabi Bagh', 3): <gurobi.Constr *Awaiting Model Update*>,\n",
       " (85, 'Anand Vihar ISBT', 3): <gurobi.Constr *Awaiting Model Update*>,\n",
       " (85, 'Punjabi Bagh', 4): <gurobi.Constr *Awaiting Model Update*>,\n",
       " (85, 'Anand Vihar ISBT', 4): <gurobi.Constr *Awaiting Model Update*>,\n",
       " (85, 'Punjabi Bagh', 0): <gurobi.Constr *Awaiting Model Update*>,\n",
       " (448, 'Punjabi Bagh', 1): <gurobi.Constr *Awaiting Model Update*>,\n",
       " (448, 'Hauz Khas Metro', 1): <gurobi.Constr *Awaiting Model Update*>,\n",
       " (448, 'Punjabi Bagh', 2): <gurobi.Constr *Awaiting Model Update*>,\n",
       " (448, 'Hauz Khas Metro', 2): <gurobi.Constr *Awaiting Model Update*>,\n",
       " (448, 'Punjabi Bagh', 3): <gurobi.Constr *Awaiting Model Update*>,\n",
       " (448, 'Hauz Khas Metro', 3): <gurobi.Constr *Awaiting Model Update*>,\n",
       " (448, 'Punjabi Bagh', 4): <gurobi.Constr *Awaiting Model Update*>,\n",
       " (448, 'Hauz Khas Metro', 4): <gurobi.Constr *Awaiting Model Update*>,\n",
       " (448, 'Punjabi Bagh', 0): <gurobi.Constr *Awaiting Model Update*>,\n",
       " (479, 'Punjabi Bagh', 1): <gurobi.Constr *Awaiting Model Update*>,\n",
       " (479, 'Badarpur Border', 1): <gurobi.Constr *Awaiting Model Update*>,\n",
       " (479, 'Punjabi Bagh', 2): <gurobi.Constr *Awaiting Model Update*>,\n",
       " (479, 'Badarpur Border', 2): <gurobi.Constr *Awaiting Model Update*>,\n",
       " (479, 'Punjabi Bagh', 3): <gurobi.Constr *Awaiting Model Update*>,\n",
       " (479, 'Badarpur Border', 3): <gurobi.Constr *Awaiting Model Update*>,\n",
       " (479, 'Punjabi Bagh', 0): <gurobi.Constr *Awaiting Model Update*>,\n",
       " (610, 'Wazirpur Depot', 1): <gurobi.Constr *Awaiting Model Update*>,\n",
       " (610, 'RK Puram Sec-1', 1): <gurobi.Constr *Awaiting Model Update*>,\n",
       " (610, 'Wazirpur Depot', 2): <gurobi.Constr *Awaiting Model Update*>,\n",
       " (610, 'RK Puram Sec-1', 2): <gurobi.Constr *Awaiting Model Update*>,\n",
       " (610, 'Wazirpur Depot', 3): <gurobi.Constr *Awaiting Model Update*>,\n",
       " (610, 'RK Puram Sec-1', 3): <gurobi.Constr *Awaiting Model Update*>,\n",
       " (610, 'Wazirpur Depot', 4): <gurobi.Constr *Awaiting Model Update*>,\n",
       " (610, 'RK Puram Sec-1', 4): <gurobi.Constr *Awaiting Model Update*>,\n",
       " (610, 'Wazirpur Depot', 5): <gurobi.Constr *Awaiting Model Update*>,\n",
       " (610, 'RK Puram Sec-1', 5): <gurobi.Constr *Awaiting Model Update*>,\n",
       " (610, 'Wazirpur Depot', 0): <gurobi.Constr *Awaiting Model Update*>,\n",
       " ('TMS (-)', 'Wazirpur Depot', 1): <gurobi.Constr *Awaiting Model Update*>,\n",
       " ('TMS (-)', nan, 1): <gurobi.Constr *Awaiting Model Update*>,\n",
       " ('TMS (-)', 'Wazirpur Depot', 2): <gurobi.Constr *Awaiting Model Update*>,\n",
       " ('TMS (-)', nan, 2): <gurobi.Constr *Awaiting Model Update*>,\n",
       " ('TMS (-)', 'Wazirpur Depot', 3): <gurobi.Constr *Awaiting Model Update*>,\n",
       " ('TMS (-)', nan, 3): <gurobi.Constr *Awaiting Model Update*>,\n",
       " ('TMS (-)', 'Wazirpur Depot', 4): <gurobi.Constr *Awaiting Model Update*>,\n",
       " ('TMS (-)', nan, 4): <gurobi.Constr *Awaiting Model Update*>,\n",
       " ('TMS (-)', 'Wazirpur Depot', 5): <gurobi.Constr *Awaiting Model Update*>,\n",
       " ('TMS (-)', nan, 5): <gurobi.Constr *Awaiting Model Update*>,\n",
       " ('TMS (-)', 'Wazirpur Depot', 0): <gurobi.Constr *Awaiting Model Update*>}"
      ]
     },
     "execution_count": 247,
     "metadata": {},
     "output_type": "execute_result"
    }
   ],
   "source": [
    "mod.addConstrs((SOCmin * (gp.quicksum(x[i[0], b] * CAPb[b] for b in BAT)) <= e_arr[i] for i in specific_pairs_e_arr),\n",
    "               name=\"constraint_10\")"
   ]
  },
  {
   "cell_type": "code",
   "execution_count": 248,
   "metadata": {
    "colab": {
     "base_uri": "https://localhost:8080/"
    },
    "id": "bptOUDddlr2g",
    "outputId": "d39c8d56-35ae-4857-8ec4-1af9ed8cb913"
   },
   "outputs": [
    {
     "data": {
      "text/plain": [
       "{(73, 'P Shahni Chow', 1): <gurobi.Constr *Awaiting Model Update*>,\n",
       " (73, 'Anand Vihar ISBT', 1): <gurobi.Constr *Awaiting Model Update*>,\n",
       " (73, 'P Shahni Chow', 2): <gurobi.Constr *Awaiting Model Update*>,\n",
       " (73, 'Anand Vihar ISBT', 2): <gurobi.Constr *Awaiting Model Update*>,\n",
       " (73, 'P Shahni Chow', 3): <gurobi.Constr *Awaiting Model Update*>,\n",
       " (73, 'Anand Vihar ISBT', 3): <gurobi.Constr *Awaiting Model Update*>,\n",
       " (73, 'P Shahni Chow', 4): <gurobi.Constr *Awaiting Model Update*>,\n",
       " (73, 'Anand Vihar ISBT', 4): <gurobi.Constr *Awaiting Model Update*>,\n",
       " (73, 'P Shahni Chow', 0): <gurobi.Constr *Awaiting Model Update*>,\n",
       " ('234A', 'Tilak Nagar', 1): <gurobi.Constr *Awaiting Model Update*>,\n",
       " ('234A', 'Harsh Vihar', 1): <gurobi.Constr *Awaiting Model Update*>,\n",
       " ('234A', 'Tilak Nagar', 2): <gurobi.Constr *Awaiting Model Update*>,\n",
       " ('234A', 'Harsh Vihar', 2): <gurobi.Constr *Awaiting Model Update*>,\n",
       " ('234A', 'Tilak Nagar', 3): <gurobi.Constr *Awaiting Model Update*>,\n",
       " ('234A', 'Harsh Vihar', 3): <gurobi.Constr *Awaiting Model Update*>,\n",
       " ('234A', 'Tilak Nagar', 4): <gurobi.Constr *Awaiting Model Update*>,\n",
       " ('234A', 'Harsh Vihar', 4): <gurobi.Constr *Awaiting Model Update*>,\n",
       " ('234A', 'Tilak Nagar', 5): <gurobi.Constr *Awaiting Model Update*>,\n",
       " ('234A', 'Harsh Vihar', 5): <gurobi.Constr *Awaiting Model Update*>,\n",
       " ('234A', 'Tilak Nagar', 0): <gurobi.Constr *Awaiting Model Update*>,\n",
       " (588, 'Uttam Nagar', 1): <gurobi.Constr *Awaiting Model Update*>,\n",
       " (588, 'JLN Stadium', 1): <gurobi.Constr *Awaiting Model Update*>,\n",
       " (588, 'Uttam Nagar', 2): <gurobi.Constr *Awaiting Model Update*>,\n",
       " (588, 'JLN Stadium', 2): <gurobi.Constr *Awaiting Model Update*>,\n",
       " (588, 'Uttam Nagar', 3): <gurobi.Constr *Awaiting Model Update*>,\n",
       " (588, 'JLN Stadium', 3): <gurobi.Constr *Awaiting Model Update*>,\n",
       " (588, 'Uttam Nagar', 4): <gurobi.Constr *Awaiting Model Update*>,\n",
       " (588, 'JLN Stadium', 4): <gurobi.Constr *Awaiting Model Update*>,\n",
       " (588, 'Uttam Nagar', 5): <gurobi.Constr *Awaiting Model Update*>,\n",
       " (588, 'JLN Stadium', 5): <gurobi.Constr *Awaiting Model Update*>,\n",
       " (588, 'Uttam Nagar', 6): <gurobi.Constr *Awaiting Model Update*>,\n",
       " (588, 'JLN Stadium', 6): <gurobi.Constr *Awaiting Model Update*>,\n",
       " (588, 'Uttam Nagar', 0): <gurobi.Constr *Awaiting Model Update*>,\n",
       " (879, 'Janak Puri D-Block', 1): <gurobi.Constr *Awaiting Model Update*>,\n",
       " (879, 'Rohini Sec-16', 1): <gurobi.Constr *Awaiting Model Update*>,\n",
       " (879, 'Janak Puri D-Block', 2): <gurobi.Constr *Awaiting Model Update*>,\n",
       " (879, 'Rohini Sec-16', 2): <gurobi.Constr *Awaiting Model Update*>,\n",
       " (879, 'Janak Puri D-Block', 3): <gurobi.Constr *Awaiting Model Update*>,\n",
       " (879, 'Rohini Sec-16', 3): <gurobi.Constr *Awaiting Model Update*>,\n",
       " (879, 'Janak Puri D-Block', 4): <gurobi.Constr *Awaiting Model Update*>,\n",
       " (879, 'Rohini Sec-16', 4): <gurobi.Constr *Awaiting Model Update*>,\n",
       " (879, 'Janak Puri D-Block', 0): <gurobi.Constr *Awaiting Model Update*>,\n",
       " (835, 'Tilak Nagar', 1): <gurobi.Constr *Awaiting Model Update*>,\n",
       " (835, 'Dhansa Border', 1): <gurobi.Constr *Awaiting Model Update*>,\n",
       " (835, 'Tilak Nagar', 2): <gurobi.Constr *Awaiting Model Update*>,\n",
       " (835, 'Dhansa Border', 2): <gurobi.Constr *Awaiting Model Update*>,\n",
       " (835, 'Tilak Nagar', 3): <gurobi.Constr *Awaiting Model Update*>,\n",
       " (835, 'Dhansa Border', 3): <gurobi.Constr *Awaiting Model Update*>,\n",
       " (835, 'Tilak Nagar', 4): <gurobi.Constr *Awaiting Model Update*>,\n",
       " (835, 'Dhansa Border', 4): <gurobi.Constr *Awaiting Model Update*>,\n",
       " (835, 'Tilak Nagar', 0): <gurobi.Constr *Awaiting Model Update*>,\n",
       " ('OMS (+) & (-)', 'Uttam Nagar', 1): <gurobi.Constr *Awaiting Model Update*>,\n",
       " ('OMS (+) & (-)',\n",
       "  'Anand Vihar ISBT',\n",
       "  1): <gurobi.Constr *Awaiting Model Update*>,\n",
       " ('OMS (+) & (-)', 'Uttam Nagar', 2): <gurobi.Constr *Awaiting Model Update*>,\n",
       " ('OMS (+) & (-)',\n",
       "  'Anand Vihar ISBT',\n",
       "  2): <gurobi.Constr *Awaiting Model Update*>,\n",
       " ('OMS (+) & (-)', 'Uttam Nagar', 0): <gurobi.Constr *Awaiting Model Update*>,\n",
       " (405, 'Badarpur Border', 1): <gurobi.Constr *Awaiting Model Update*>,\n",
       " (405, 'Mori Gate', 1): <gurobi.Constr *Awaiting Model Update*>,\n",
       " (405, 'Badarpur Border', 2): <gurobi.Constr *Awaiting Model Update*>,\n",
       " (405, 'Mori Gate', 2): <gurobi.Constr *Awaiting Model Update*>,\n",
       " (405, 'Badarpur Border', 3): <gurobi.Constr *Awaiting Model Update*>,\n",
       " (405, 'Mori Gate', 3): <gurobi.Constr *Awaiting Model Update*>,\n",
       " (405, 'Badarpur Border', 4): <gurobi.Constr *Awaiting Model Update*>,\n",
       " (405, 'Mori Gate', 4): <gurobi.Constr *Awaiting Model Update*>,\n",
       " (405, 'Badarpur Border', 0): <gurobi.Constr *Awaiting Model Update*>,\n",
       " (433, 'Badarpur Border', 1): <gurobi.Constr *Awaiting Model Update*>,\n",
       " (433, 'ND Rly Station', 1): <gurobi.Constr *Awaiting Model Update*>,\n",
       " (433, 'Badarpur Border', 2): <gurobi.Constr *Awaiting Model Update*>,\n",
       " (433, 'ND Rly Station', 2): <gurobi.Constr *Awaiting Model Update*>,\n",
       " (433, 'Badarpur Border', 3): <gurobi.Constr *Awaiting Model Update*>,\n",
       " (433, 'ND Rly Station', 3): <gurobi.Constr *Awaiting Model Update*>,\n",
       " (433, 'Badarpur Border', 4): <gurobi.Constr *Awaiting Model Update*>,\n",
       " (433, 'ND Rly Station', 4): <gurobi.Constr *Awaiting Model Update*>,\n",
       " (433, 'Badarpur Border', 0): <gurobi.Constr *Awaiting Model Update*>,\n",
       " (460, 'Badarpur Border', 1): <gurobi.Constr *Awaiting Model Update*>,\n",
       " (460, 'Minto road', 1): <gurobi.Constr *Awaiting Model Update*>,\n",
       " (460, 'Badarpur Border', 2): <gurobi.Constr *Awaiting Model Update*>,\n",
       " (460, 'Minto road', 2): <gurobi.Constr *Awaiting Model Update*>,\n",
       " (460, 'Badarpur Border', 3): <gurobi.Constr *Awaiting Model Update*>,\n",
       " (460, 'Minto road', 3): <gurobi.Constr *Awaiting Model Update*>,\n",
       " (460, 'Badarpur Border', 4): <gurobi.Constr *Awaiting Model Update*>,\n",
       " (460, 'Minto road', 4): <gurobi.Constr *Awaiting Model Update*>,\n",
       " (460, 'Badarpur Border', 0): <gurobi.Constr *Awaiting Model Update*>,\n",
       " (473, 'Badarpur Border', 1): <gurobi.Constr *Awaiting Model Update*>,\n",
       " (473, 'Anand Vihar ISBT', 1): <gurobi.Constr *Awaiting Model Update*>,\n",
       " (473, 'Badarpur Border', 2): <gurobi.Constr *Awaiting Model Update*>,\n",
       " (473, 'Anand Vihar ISBT', 2): <gurobi.Constr *Awaiting Model Update*>,\n",
       " (473, 'Badarpur Border', 3): <gurobi.Constr *Awaiting Model Update*>,\n",
       " (473, 'Anand Vihar ISBT', 3): <gurobi.Constr *Awaiting Model Update*>,\n",
       " (473, 'Badarpur Border', 4): <gurobi.Constr *Awaiting Model Update*>,\n",
       " (473, 'Anand Vihar ISBT', 4): <gurobi.Constr *Awaiting Model Update*>,\n",
       " (473, 'Badarpur Border', 0): <gurobi.Constr *Awaiting Model Update*>,\n",
       " (507, 'Okhla Extn.', 1): <gurobi.Constr *Awaiting Model Update*>,\n",
       " (507, 'Dhaula Kuan', 1): <gurobi.Constr *Awaiting Model Update*>,\n",
       " (507, 'Okhla Extn.', 2): <gurobi.Constr *Awaiting Model Update*>,\n",
       " (507, 'Dhaula Kuan', 2): <gurobi.Constr *Awaiting Model Update*>,\n",
       " (507, 'Okhla Extn.', 3): <gurobi.Constr *Awaiting Model Update*>,\n",
       " (507, 'Dhaula Kuan', 3): <gurobi.Constr *Awaiting Model Update*>,\n",
       " (507, 'Okhla Extn.', 4): <gurobi.Constr *Awaiting Model Update*>,\n",
       " (507, 'Dhaula Kuan', 4): <gurobi.Constr *Awaiting Model Update*>,\n",
       " (507, 'Okhla Extn.', 0): <gurobi.Constr *Awaiting Model Update*>,\n",
       " (544, 'Badarpur Border', 1): <gurobi.Constr *Awaiting Model Update*>,\n",
       " (544, 'RK Puram Sec-1 ', 1): <gurobi.Constr *Awaiting Model Update*>,\n",
       " (544, 'Badarpur Border', 2): <gurobi.Constr *Awaiting Model Update*>,\n",
       " (544, 'RK Puram Sec-1 ', 2): <gurobi.Constr *Awaiting Model Update*>,\n",
       " (544, 'Badarpur Border', 3): <gurobi.Constr *Awaiting Model Update*>,\n",
       " (544, 'RK Puram Sec-1 ', 3): <gurobi.Constr *Awaiting Model Update*>,\n",
       " (544, 'Badarpur Border', 4): <gurobi.Constr *Awaiting Model Update*>,\n",
       " (544, 'RK Puram Sec-1 ', 4): <gurobi.Constr *Awaiting Model Update*>,\n",
       " (544, 'Badarpur Border', 0): <gurobi.Constr *Awaiting Model Update*>,\n",
       " (39, 'Tri Nagar Market', 1): <gurobi.Constr *Awaiting Model Update*>,\n",
       " (39, 'Jheel', 1): <gurobi.Constr *Awaiting Model Update*>,\n",
       " (39, 'Tri Nagar Market', 2): <gurobi.Constr *Awaiting Model Update*>,\n",
       " (39, 'Jheel', 2): <gurobi.Constr *Awaiting Model Update*>,\n",
       " (39, 'Tri Nagar Market', 3): <gurobi.Constr *Awaiting Model Update*>,\n",
       " (39, 'Jheel', 3): <gurobi.Constr *Awaiting Model Update*>,\n",
       " (39, 'Tri Nagar Market', 4): <gurobi.Constr *Awaiting Model Update*>,\n",
       " (39, 'Jheel', 4): <gurobi.Constr *Awaiting Model Update*>,\n",
       " (39, 'Tri Nagar Market', 0): <gurobi.Constr *Awaiting Model Update*>,\n",
       " (85, 'Punjabi Bagh', 1): <gurobi.Constr *Awaiting Model Update*>,\n",
       " (85, 'Anand Vihar ISBT', 1): <gurobi.Constr *Awaiting Model Update*>,\n",
       " (85, 'Punjabi Bagh', 2): <gurobi.Constr *Awaiting Model Update*>,\n",
       " (85, 'Anand Vihar ISBT', 2): <gurobi.Constr *Awaiting Model Update*>,\n",
       " (85, 'Punjabi Bagh', 3): <gurobi.Constr *Awaiting Model Update*>,\n",
       " (85, 'Anand Vihar ISBT', 3): <gurobi.Constr *Awaiting Model Update*>,\n",
       " (85, 'Punjabi Bagh', 4): <gurobi.Constr *Awaiting Model Update*>,\n",
       " (85, 'Anand Vihar ISBT', 4): <gurobi.Constr *Awaiting Model Update*>,\n",
       " (85, 'Punjabi Bagh', 0): <gurobi.Constr *Awaiting Model Update*>,\n",
       " (448, 'Punjabi Bagh', 1): <gurobi.Constr *Awaiting Model Update*>,\n",
       " (448, 'Hauz Khas Metro', 1): <gurobi.Constr *Awaiting Model Update*>,\n",
       " (448, 'Punjabi Bagh', 2): <gurobi.Constr *Awaiting Model Update*>,\n",
       " (448, 'Hauz Khas Metro', 2): <gurobi.Constr *Awaiting Model Update*>,\n",
       " (448, 'Punjabi Bagh', 3): <gurobi.Constr *Awaiting Model Update*>,\n",
       " (448, 'Hauz Khas Metro', 3): <gurobi.Constr *Awaiting Model Update*>,\n",
       " (448, 'Punjabi Bagh', 4): <gurobi.Constr *Awaiting Model Update*>,\n",
       " (448, 'Hauz Khas Metro', 4): <gurobi.Constr *Awaiting Model Update*>,\n",
       " (448, 'Punjabi Bagh', 0): <gurobi.Constr *Awaiting Model Update*>,\n",
       " (479, 'Punjabi Bagh', 1): <gurobi.Constr *Awaiting Model Update*>,\n",
       " (479, 'Badarpur Border', 1): <gurobi.Constr *Awaiting Model Update*>,\n",
       " (479, 'Punjabi Bagh', 2): <gurobi.Constr *Awaiting Model Update*>,\n",
       " (479, 'Badarpur Border', 2): <gurobi.Constr *Awaiting Model Update*>,\n",
       " (479, 'Punjabi Bagh', 3): <gurobi.Constr *Awaiting Model Update*>,\n",
       " (479, 'Badarpur Border', 3): <gurobi.Constr *Awaiting Model Update*>,\n",
       " (479, 'Punjabi Bagh', 0): <gurobi.Constr *Awaiting Model Update*>,\n",
       " (610, 'Wazirpur Depot', 1): <gurobi.Constr *Awaiting Model Update*>,\n",
       " (610, 'RK Puram Sec-1', 1): <gurobi.Constr *Awaiting Model Update*>,\n",
       " (610, 'Wazirpur Depot', 2): <gurobi.Constr *Awaiting Model Update*>,\n",
       " (610, 'RK Puram Sec-1', 2): <gurobi.Constr *Awaiting Model Update*>,\n",
       " (610, 'Wazirpur Depot', 3): <gurobi.Constr *Awaiting Model Update*>,\n",
       " (610, 'RK Puram Sec-1', 3): <gurobi.Constr *Awaiting Model Update*>,\n",
       " (610, 'Wazirpur Depot', 4): <gurobi.Constr *Awaiting Model Update*>,\n",
       " (610, 'RK Puram Sec-1', 4): <gurobi.Constr *Awaiting Model Update*>,\n",
       " (610, 'Wazirpur Depot', 5): <gurobi.Constr *Awaiting Model Update*>,\n",
       " (610, 'RK Puram Sec-1', 5): <gurobi.Constr *Awaiting Model Update*>,\n",
       " (610, 'Wazirpur Depot', 0): <gurobi.Constr *Awaiting Model Update*>,\n",
       " ('TMS (-)', 'Wazirpur Depot', 1): <gurobi.Constr *Awaiting Model Update*>,\n",
       " ('TMS (-)', nan, 1): <gurobi.Constr *Awaiting Model Update*>,\n",
       " ('TMS (-)', 'Wazirpur Depot', 2): <gurobi.Constr *Awaiting Model Update*>,\n",
       " ('TMS (-)', nan, 2): <gurobi.Constr *Awaiting Model Update*>,\n",
       " ('TMS (-)', 'Wazirpur Depot', 3): <gurobi.Constr *Awaiting Model Update*>,\n",
       " ('TMS (-)', nan, 3): <gurobi.Constr *Awaiting Model Update*>,\n",
       " ('TMS (-)', 'Wazirpur Depot', 4): <gurobi.Constr *Awaiting Model Update*>,\n",
       " ('TMS (-)', nan, 4): <gurobi.Constr *Awaiting Model Update*>,\n",
       " ('TMS (-)', 'Wazirpur Depot', 5): <gurobi.Constr *Awaiting Model Update*>,\n",
       " ('TMS (-)', nan, 5): <gurobi.Constr *Awaiting Model Update*>,\n",
       " ('TMS (-)', 'Wazirpur Depot', 0): <gurobi.Constr *Awaiting Model Update*>}"
      ]
     },
     "execution_count": 248,
     "metadata": {},
     "output_type": "execute_result"
    }
   ],
   "source": [
    "mod.addConstrs((SOCmax * (gp.quicksum(x[i[0], b] * CAPb[b] for b in BAT)) >= e_arr[i] for i in specific_pairs_e_arr),\n",
    "               name=\"constraint_11\")"
   ]
  },
  {
   "cell_type": "code",
   "execution_count": 249,
   "metadata": {
    "colab": {
     "base_uri": "https://localhost:8080/"
    },
    "id": "OwAfnwcOl7XT",
    "outputId": "9cc94561-b7e6-4733-ed12-57c4ed3f38c3"
   },
   "outputs": [
    {
     "data": {
      "text/plain": [
       "{(73, 'P Shahni Chow', 1): <gurobi.Constr *Awaiting Model Update*>,\n",
       " (73, 'Anand Vihar ISBT', 1): <gurobi.Constr *Awaiting Model Update*>,\n",
       " (73, 'P Shahni Chow', 2): <gurobi.Constr *Awaiting Model Update*>,\n",
       " (73, 'Anand Vihar ISBT', 2): <gurobi.Constr *Awaiting Model Update*>,\n",
       " (73, 'P Shahni Chow', 3): <gurobi.Constr *Awaiting Model Update*>,\n",
       " (73, 'Anand Vihar ISBT', 3): <gurobi.Constr *Awaiting Model Update*>,\n",
       " (73, 'P Shahni Chow', 4): <gurobi.Constr *Awaiting Model Update*>,\n",
       " (73, 'Anand Vihar ISBT', 4): <gurobi.Constr *Awaiting Model Update*>,\n",
       " ('234A', 'Tilak Nagar', 1): <gurobi.Constr *Awaiting Model Update*>,\n",
       " ('234A', 'Harsh Vihar', 1): <gurobi.Constr *Awaiting Model Update*>,\n",
       " ('234A', 'Tilak Nagar', 2): <gurobi.Constr *Awaiting Model Update*>,\n",
       " ('234A', 'Harsh Vihar', 2): <gurobi.Constr *Awaiting Model Update*>,\n",
       " ('234A', 'Tilak Nagar', 3): <gurobi.Constr *Awaiting Model Update*>,\n",
       " ('234A', 'Harsh Vihar', 3): <gurobi.Constr *Awaiting Model Update*>,\n",
       " ('234A', 'Tilak Nagar', 4): <gurobi.Constr *Awaiting Model Update*>,\n",
       " ('234A', 'Harsh Vihar', 4): <gurobi.Constr *Awaiting Model Update*>,\n",
       " ('234A', 'Tilak Nagar', 5): <gurobi.Constr *Awaiting Model Update*>,\n",
       " ('234A', 'Harsh Vihar', 5): <gurobi.Constr *Awaiting Model Update*>,\n",
       " (588, 'Uttam Nagar', 1): <gurobi.Constr *Awaiting Model Update*>,\n",
       " (588, 'JLN Stadium', 1): <gurobi.Constr *Awaiting Model Update*>,\n",
       " (588, 'Uttam Nagar', 2): <gurobi.Constr *Awaiting Model Update*>,\n",
       " (588, 'JLN Stadium', 2): <gurobi.Constr *Awaiting Model Update*>,\n",
       " (588, 'Uttam Nagar', 3): <gurobi.Constr *Awaiting Model Update*>,\n",
       " (588, 'JLN Stadium', 3): <gurobi.Constr *Awaiting Model Update*>,\n",
       " (588, 'Uttam Nagar', 4): <gurobi.Constr *Awaiting Model Update*>,\n",
       " (588, 'JLN Stadium', 4): <gurobi.Constr *Awaiting Model Update*>,\n",
       " (588, 'Uttam Nagar', 5): <gurobi.Constr *Awaiting Model Update*>,\n",
       " (588, 'JLN Stadium', 5): <gurobi.Constr *Awaiting Model Update*>,\n",
       " (588, 'Uttam Nagar', 6): <gurobi.Constr *Awaiting Model Update*>,\n",
       " (588, 'JLN Stadium', 6): <gurobi.Constr *Awaiting Model Update*>,\n",
       " (879, 'Janak Puri D-Block', 1): <gurobi.Constr *Awaiting Model Update*>,\n",
       " (879, 'Rohini Sec-16', 1): <gurobi.Constr *Awaiting Model Update*>,\n",
       " (879, 'Janak Puri D-Block', 2): <gurobi.Constr *Awaiting Model Update*>,\n",
       " (879, 'Rohini Sec-16', 2): <gurobi.Constr *Awaiting Model Update*>,\n",
       " (879, 'Janak Puri D-Block', 3): <gurobi.Constr *Awaiting Model Update*>,\n",
       " (879, 'Rohini Sec-16', 3): <gurobi.Constr *Awaiting Model Update*>,\n",
       " (879, 'Janak Puri D-Block', 4): <gurobi.Constr *Awaiting Model Update*>,\n",
       " (879, 'Rohini Sec-16', 4): <gurobi.Constr *Awaiting Model Update*>,\n",
       " (835, 'Tilak Nagar', 1): <gurobi.Constr *Awaiting Model Update*>,\n",
       " (835, 'Dhansa Border', 1): <gurobi.Constr *Awaiting Model Update*>,\n",
       " (835, 'Tilak Nagar', 2): <gurobi.Constr *Awaiting Model Update*>,\n",
       " (835, 'Dhansa Border', 2): <gurobi.Constr *Awaiting Model Update*>,\n",
       " (835, 'Tilak Nagar', 3): <gurobi.Constr *Awaiting Model Update*>,\n",
       " (835, 'Dhansa Border', 3): <gurobi.Constr *Awaiting Model Update*>,\n",
       " (835, 'Tilak Nagar', 4): <gurobi.Constr *Awaiting Model Update*>,\n",
       " (835, 'Dhansa Border', 4): <gurobi.Constr *Awaiting Model Update*>,\n",
       " ('OMS (+) & (-)', 'Uttam Nagar', 1): <gurobi.Constr *Awaiting Model Update*>,\n",
       " ('OMS (+) & (-)',\n",
       "  'Anand Vihar ISBT',\n",
       "  1): <gurobi.Constr *Awaiting Model Update*>,\n",
       " ('OMS (+) & (-)', 'Uttam Nagar', 2): <gurobi.Constr *Awaiting Model Update*>,\n",
       " ('OMS (+) & (-)',\n",
       "  'Anand Vihar ISBT',\n",
       "  2): <gurobi.Constr *Awaiting Model Update*>,\n",
       " (405, 'Badarpur Border', 1): <gurobi.Constr *Awaiting Model Update*>,\n",
       " (405, 'Mori Gate', 1): <gurobi.Constr *Awaiting Model Update*>,\n",
       " (405, 'Badarpur Border', 2): <gurobi.Constr *Awaiting Model Update*>,\n",
       " (405, 'Mori Gate', 2): <gurobi.Constr *Awaiting Model Update*>,\n",
       " (405, 'Badarpur Border', 3): <gurobi.Constr *Awaiting Model Update*>,\n",
       " (405, 'Mori Gate', 3): <gurobi.Constr *Awaiting Model Update*>,\n",
       " (405, 'Badarpur Border', 4): <gurobi.Constr *Awaiting Model Update*>,\n",
       " (405, 'Mori Gate', 4): <gurobi.Constr *Awaiting Model Update*>,\n",
       " (433, 'Badarpur Border', 1): <gurobi.Constr *Awaiting Model Update*>,\n",
       " (433, 'ND Rly Station', 1): <gurobi.Constr *Awaiting Model Update*>,\n",
       " (433, 'Badarpur Border', 2): <gurobi.Constr *Awaiting Model Update*>,\n",
       " (433, 'ND Rly Station', 2): <gurobi.Constr *Awaiting Model Update*>,\n",
       " (433, 'Badarpur Border', 3): <gurobi.Constr *Awaiting Model Update*>,\n",
       " (433, 'ND Rly Station', 3): <gurobi.Constr *Awaiting Model Update*>,\n",
       " (433, 'Badarpur Border', 4): <gurobi.Constr *Awaiting Model Update*>,\n",
       " (433, 'ND Rly Station', 4): <gurobi.Constr *Awaiting Model Update*>,\n",
       " (460, 'Badarpur Border', 1): <gurobi.Constr *Awaiting Model Update*>,\n",
       " (460, 'Minto road', 1): <gurobi.Constr *Awaiting Model Update*>,\n",
       " (460, 'Badarpur Border', 2): <gurobi.Constr *Awaiting Model Update*>,\n",
       " (460, 'Minto road', 2): <gurobi.Constr *Awaiting Model Update*>,\n",
       " (460, 'Badarpur Border', 3): <gurobi.Constr *Awaiting Model Update*>,\n",
       " (460, 'Minto road', 3): <gurobi.Constr *Awaiting Model Update*>,\n",
       " (460, 'Badarpur Border', 4): <gurobi.Constr *Awaiting Model Update*>,\n",
       " (460, 'Minto road', 4): <gurobi.Constr *Awaiting Model Update*>,\n",
       " (473, 'Badarpur Border', 1): <gurobi.Constr *Awaiting Model Update*>,\n",
       " (473, 'Anand Vihar ISBT', 1): <gurobi.Constr *Awaiting Model Update*>,\n",
       " (473, 'Badarpur Border', 2): <gurobi.Constr *Awaiting Model Update*>,\n",
       " (473, 'Anand Vihar ISBT', 2): <gurobi.Constr *Awaiting Model Update*>,\n",
       " (473, 'Badarpur Border', 3): <gurobi.Constr *Awaiting Model Update*>,\n",
       " (473, 'Anand Vihar ISBT', 3): <gurobi.Constr *Awaiting Model Update*>,\n",
       " (473, 'Badarpur Border', 4): <gurobi.Constr *Awaiting Model Update*>,\n",
       " (473, 'Anand Vihar ISBT', 4): <gurobi.Constr *Awaiting Model Update*>,\n",
       " (507, 'Okhla Extn.', 1): <gurobi.Constr *Awaiting Model Update*>,\n",
       " (507, 'Dhaula Kuan', 1): <gurobi.Constr *Awaiting Model Update*>,\n",
       " (507, 'Okhla Extn.', 2): <gurobi.Constr *Awaiting Model Update*>,\n",
       " (507, 'Dhaula Kuan', 2): <gurobi.Constr *Awaiting Model Update*>,\n",
       " (507, 'Okhla Extn.', 3): <gurobi.Constr *Awaiting Model Update*>,\n",
       " (507, 'Dhaula Kuan', 3): <gurobi.Constr *Awaiting Model Update*>,\n",
       " (507, 'Okhla Extn.', 4): <gurobi.Constr *Awaiting Model Update*>,\n",
       " (507, 'Dhaula Kuan', 4): <gurobi.Constr *Awaiting Model Update*>,\n",
       " (544, 'Badarpur Border', 1): <gurobi.Constr *Awaiting Model Update*>,\n",
       " (544, 'RK Puram Sec-1 ', 1): <gurobi.Constr *Awaiting Model Update*>,\n",
       " (544, 'Badarpur Border', 2): <gurobi.Constr *Awaiting Model Update*>,\n",
       " (544, 'RK Puram Sec-1 ', 2): <gurobi.Constr *Awaiting Model Update*>,\n",
       " (544, 'Badarpur Border', 3): <gurobi.Constr *Awaiting Model Update*>,\n",
       " (544, 'RK Puram Sec-1 ', 3): <gurobi.Constr *Awaiting Model Update*>,\n",
       " (544, 'Badarpur Border', 4): <gurobi.Constr *Awaiting Model Update*>,\n",
       " (544, 'RK Puram Sec-1 ', 4): <gurobi.Constr *Awaiting Model Update*>,\n",
       " (39, 'Tri Nagar Market', 1): <gurobi.Constr *Awaiting Model Update*>,\n",
       " (39, 'Jheel', 1): <gurobi.Constr *Awaiting Model Update*>,\n",
       " (39, 'Tri Nagar Market', 2): <gurobi.Constr *Awaiting Model Update*>,\n",
       " (39, 'Jheel', 2): <gurobi.Constr *Awaiting Model Update*>,\n",
       " (39, 'Tri Nagar Market', 3): <gurobi.Constr *Awaiting Model Update*>,\n",
       " (39, 'Jheel', 3): <gurobi.Constr *Awaiting Model Update*>,\n",
       " (39, 'Tri Nagar Market', 4): <gurobi.Constr *Awaiting Model Update*>,\n",
       " (39, 'Jheel', 4): <gurobi.Constr *Awaiting Model Update*>,\n",
       " (85, 'Punjabi Bagh', 1): <gurobi.Constr *Awaiting Model Update*>,\n",
       " (85, 'Anand Vihar ISBT', 1): <gurobi.Constr *Awaiting Model Update*>,\n",
       " (85, 'Punjabi Bagh', 2): <gurobi.Constr *Awaiting Model Update*>,\n",
       " (85, 'Anand Vihar ISBT', 2): <gurobi.Constr *Awaiting Model Update*>,\n",
       " (85, 'Punjabi Bagh', 3): <gurobi.Constr *Awaiting Model Update*>,\n",
       " (85, 'Anand Vihar ISBT', 3): <gurobi.Constr *Awaiting Model Update*>,\n",
       " (85, 'Punjabi Bagh', 4): <gurobi.Constr *Awaiting Model Update*>,\n",
       " (85, 'Anand Vihar ISBT', 4): <gurobi.Constr *Awaiting Model Update*>,\n",
       " (448, 'Punjabi Bagh', 1): <gurobi.Constr *Awaiting Model Update*>,\n",
       " (448, 'Hauz Khas Metro', 1): <gurobi.Constr *Awaiting Model Update*>,\n",
       " (448, 'Punjabi Bagh', 2): <gurobi.Constr *Awaiting Model Update*>,\n",
       " (448, 'Hauz Khas Metro', 2): <gurobi.Constr *Awaiting Model Update*>,\n",
       " (448, 'Punjabi Bagh', 3): <gurobi.Constr *Awaiting Model Update*>,\n",
       " (448, 'Hauz Khas Metro', 3): <gurobi.Constr *Awaiting Model Update*>,\n",
       " (448, 'Punjabi Bagh', 4): <gurobi.Constr *Awaiting Model Update*>,\n",
       " (448, 'Hauz Khas Metro', 4): <gurobi.Constr *Awaiting Model Update*>,\n",
       " (479, 'Punjabi Bagh', 1): <gurobi.Constr *Awaiting Model Update*>,\n",
       " (479, 'Badarpur Border', 1): <gurobi.Constr *Awaiting Model Update*>,\n",
       " (479, 'Punjabi Bagh', 2): <gurobi.Constr *Awaiting Model Update*>,\n",
       " (479, 'Badarpur Border', 2): <gurobi.Constr *Awaiting Model Update*>,\n",
       " (479, 'Punjabi Bagh', 3): <gurobi.Constr *Awaiting Model Update*>,\n",
       " (479, 'Badarpur Border', 3): <gurobi.Constr *Awaiting Model Update*>,\n",
       " (610, 'Wazirpur Depot', 1): <gurobi.Constr *Awaiting Model Update*>,\n",
       " (610, 'RK Puram Sec-1', 1): <gurobi.Constr *Awaiting Model Update*>,\n",
       " (610, 'Wazirpur Depot', 2): <gurobi.Constr *Awaiting Model Update*>,\n",
       " (610, 'RK Puram Sec-1', 2): <gurobi.Constr *Awaiting Model Update*>,\n",
       " (610, 'Wazirpur Depot', 3): <gurobi.Constr *Awaiting Model Update*>,\n",
       " (610, 'RK Puram Sec-1', 3): <gurobi.Constr *Awaiting Model Update*>,\n",
       " (610, 'Wazirpur Depot', 4): <gurobi.Constr *Awaiting Model Update*>,\n",
       " (610, 'RK Puram Sec-1', 4): <gurobi.Constr *Awaiting Model Update*>,\n",
       " (610, 'Wazirpur Depot', 5): <gurobi.Constr *Awaiting Model Update*>,\n",
       " (610, 'RK Puram Sec-1', 5): <gurobi.Constr *Awaiting Model Update*>,\n",
       " ('TMS (-)', 'Wazirpur Depot', 1): <gurobi.Constr *Awaiting Model Update*>,\n",
       " ('TMS (-)', nan, 1): <gurobi.Constr *Awaiting Model Update*>,\n",
       " ('TMS (-)', 'Wazirpur Depot', 2): <gurobi.Constr *Awaiting Model Update*>,\n",
       " ('TMS (-)', nan, 2): <gurobi.Constr *Awaiting Model Update*>,\n",
       " ('TMS (-)', 'Wazirpur Depot', 3): <gurobi.Constr *Awaiting Model Update*>,\n",
       " ('TMS (-)', nan, 3): <gurobi.Constr *Awaiting Model Update*>,\n",
       " ('TMS (-)', 'Wazirpur Depot', 4): <gurobi.Constr *Awaiting Model Update*>,\n",
       " ('TMS (-)', nan, 4): <gurobi.Constr *Awaiting Model Update*>,\n",
       " ('TMS (-)', 'Wazirpur Depot', 5): <gurobi.Constr *Awaiting Model Update*>,\n",
       " ('TMS (-)', nan, 5): <gurobi.Constr *Awaiting Model Update*>}"
      ]
     },
     "execution_count": 249,
     "metadata": {},
     "output_type": "execute_result"
    }
   ],
   "source": [
    "mod.addConstrs((SOCmin * (gp.quicksum(x[i[0], b] * CAPb[b] for b in BAT)) <= e_dep[i] for i in specific_pairs_e_dep),\n",
    "               name=\"constraint_12\")"
   ]
  },
  {
   "cell_type": "code",
   "execution_count": 250,
   "metadata": {
    "colab": {
     "base_uri": "https://localhost:8080/"
    },
    "id": "U71X5UU8npQR",
    "outputId": "1af0bfec-8d96-40b2-c3e6-9a38e3c13575"
   },
   "outputs": [
    {
     "data": {
      "text/plain": [
       "{(73, 'P Shahni Chow', 1): <gurobi.Constr *Awaiting Model Update*>,\n",
       " (73, 'Anand Vihar ISBT', 1): <gurobi.Constr *Awaiting Model Update*>,\n",
       " (73, 'P Shahni Chow', 2): <gurobi.Constr *Awaiting Model Update*>,\n",
       " (73, 'Anand Vihar ISBT', 2): <gurobi.Constr *Awaiting Model Update*>,\n",
       " (73, 'P Shahni Chow', 3): <gurobi.Constr *Awaiting Model Update*>,\n",
       " (73, 'Anand Vihar ISBT', 3): <gurobi.Constr *Awaiting Model Update*>,\n",
       " (73, 'P Shahni Chow', 4): <gurobi.Constr *Awaiting Model Update*>,\n",
       " (73, 'Anand Vihar ISBT', 4): <gurobi.Constr *Awaiting Model Update*>,\n",
       " ('234A', 'Tilak Nagar', 1): <gurobi.Constr *Awaiting Model Update*>,\n",
       " ('234A', 'Harsh Vihar', 1): <gurobi.Constr *Awaiting Model Update*>,\n",
       " ('234A', 'Tilak Nagar', 2): <gurobi.Constr *Awaiting Model Update*>,\n",
       " ('234A', 'Harsh Vihar', 2): <gurobi.Constr *Awaiting Model Update*>,\n",
       " ('234A', 'Tilak Nagar', 3): <gurobi.Constr *Awaiting Model Update*>,\n",
       " ('234A', 'Harsh Vihar', 3): <gurobi.Constr *Awaiting Model Update*>,\n",
       " ('234A', 'Tilak Nagar', 4): <gurobi.Constr *Awaiting Model Update*>,\n",
       " ('234A', 'Harsh Vihar', 4): <gurobi.Constr *Awaiting Model Update*>,\n",
       " ('234A', 'Tilak Nagar', 5): <gurobi.Constr *Awaiting Model Update*>,\n",
       " ('234A', 'Harsh Vihar', 5): <gurobi.Constr *Awaiting Model Update*>,\n",
       " (588, 'Uttam Nagar', 1): <gurobi.Constr *Awaiting Model Update*>,\n",
       " (588, 'JLN Stadium', 1): <gurobi.Constr *Awaiting Model Update*>,\n",
       " (588, 'Uttam Nagar', 2): <gurobi.Constr *Awaiting Model Update*>,\n",
       " (588, 'JLN Stadium', 2): <gurobi.Constr *Awaiting Model Update*>,\n",
       " (588, 'Uttam Nagar', 3): <gurobi.Constr *Awaiting Model Update*>,\n",
       " (588, 'JLN Stadium', 3): <gurobi.Constr *Awaiting Model Update*>,\n",
       " (588, 'Uttam Nagar', 4): <gurobi.Constr *Awaiting Model Update*>,\n",
       " (588, 'JLN Stadium', 4): <gurobi.Constr *Awaiting Model Update*>,\n",
       " (588, 'Uttam Nagar', 5): <gurobi.Constr *Awaiting Model Update*>,\n",
       " (588, 'JLN Stadium', 5): <gurobi.Constr *Awaiting Model Update*>,\n",
       " (588, 'Uttam Nagar', 6): <gurobi.Constr *Awaiting Model Update*>,\n",
       " (588, 'JLN Stadium', 6): <gurobi.Constr *Awaiting Model Update*>,\n",
       " (879, 'Janak Puri D-Block', 1): <gurobi.Constr *Awaiting Model Update*>,\n",
       " (879, 'Rohini Sec-16', 1): <gurobi.Constr *Awaiting Model Update*>,\n",
       " (879, 'Janak Puri D-Block', 2): <gurobi.Constr *Awaiting Model Update*>,\n",
       " (879, 'Rohini Sec-16', 2): <gurobi.Constr *Awaiting Model Update*>,\n",
       " (879, 'Janak Puri D-Block', 3): <gurobi.Constr *Awaiting Model Update*>,\n",
       " (879, 'Rohini Sec-16', 3): <gurobi.Constr *Awaiting Model Update*>,\n",
       " (879, 'Janak Puri D-Block', 4): <gurobi.Constr *Awaiting Model Update*>,\n",
       " (879, 'Rohini Sec-16', 4): <gurobi.Constr *Awaiting Model Update*>,\n",
       " (835, 'Tilak Nagar', 1): <gurobi.Constr *Awaiting Model Update*>,\n",
       " (835, 'Dhansa Border', 1): <gurobi.Constr *Awaiting Model Update*>,\n",
       " (835, 'Tilak Nagar', 2): <gurobi.Constr *Awaiting Model Update*>,\n",
       " (835, 'Dhansa Border', 2): <gurobi.Constr *Awaiting Model Update*>,\n",
       " (835, 'Tilak Nagar', 3): <gurobi.Constr *Awaiting Model Update*>,\n",
       " (835, 'Dhansa Border', 3): <gurobi.Constr *Awaiting Model Update*>,\n",
       " (835, 'Tilak Nagar', 4): <gurobi.Constr *Awaiting Model Update*>,\n",
       " (835, 'Dhansa Border', 4): <gurobi.Constr *Awaiting Model Update*>,\n",
       " ('OMS (+) & (-)', 'Uttam Nagar', 1): <gurobi.Constr *Awaiting Model Update*>,\n",
       " ('OMS (+) & (-)',\n",
       "  'Anand Vihar ISBT',\n",
       "  1): <gurobi.Constr *Awaiting Model Update*>,\n",
       " ('OMS (+) & (-)', 'Uttam Nagar', 2): <gurobi.Constr *Awaiting Model Update*>,\n",
       " ('OMS (+) & (-)',\n",
       "  'Anand Vihar ISBT',\n",
       "  2): <gurobi.Constr *Awaiting Model Update*>,\n",
       " (405, 'Badarpur Border', 1): <gurobi.Constr *Awaiting Model Update*>,\n",
       " (405, 'Mori Gate', 1): <gurobi.Constr *Awaiting Model Update*>,\n",
       " (405, 'Badarpur Border', 2): <gurobi.Constr *Awaiting Model Update*>,\n",
       " (405, 'Mori Gate', 2): <gurobi.Constr *Awaiting Model Update*>,\n",
       " (405, 'Badarpur Border', 3): <gurobi.Constr *Awaiting Model Update*>,\n",
       " (405, 'Mori Gate', 3): <gurobi.Constr *Awaiting Model Update*>,\n",
       " (405, 'Badarpur Border', 4): <gurobi.Constr *Awaiting Model Update*>,\n",
       " (405, 'Mori Gate', 4): <gurobi.Constr *Awaiting Model Update*>,\n",
       " (433, 'Badarpur Border', 1): <gurobi.Constr *Awaiting Model Update*>,\n",
       " (433, 'ND Rly Station', 1): <gurobi.Constr *Awaiting Model Update*>,\n",
       " (433, 'Badarpur Border', 2): <gurobi.Constr *Awaiting Model Update*>,\n",
       " (433, 'ND Rly Station', 2): <gurobi.Constr *Awaiting Model Update*>,\n",
       " (433, 'Badarpur Border', 3): <gurobi.Constr *Awaiting Model Update*>,\n",
       " (433, 'ND Rly Station', 3): <gurobi.Constr *Awaiting Model Update*>,\n",
       " (433, 'Badarpur Border', 4): <gurobi.Constr *Awaiting Model Update*>,\n",
       " (433, 'ND Rly Station', 4): <gurobi.Constr *Awaiting Model Update*>,\n",
       " (460, 'Badarpur Border', 1): <gurobi.Constr *Awaiting Model Update*>,\n",
       " (460, 'Minto road', 1): <gurobi.Constr *Awaiting Model Update*>,\n",
       " (460, 'Badarpur Border', 2): <gurobi.Constr *Awaiting Model Update*>,\n",
       " (460, 'Minto road', 2): <gurobi.Constr *Awaiting Model Update*>,\n",
       " (460, 'Badarpur Border', 3): <gurobi.Constr *Awaiting Model Update*>,\n",
       " (460, 'Minto road', 3): <gurobi.Constr *Awaiting Model Update*>,\n",
       " (460, 'Badarpur Border', 4): <gurobi.Constr *Awaiting Model Update*>,\n",
       " (460, 'Minto road', 4): <gurobi.Constr *Awaiting Model Update*>,\n",
       " (473, 'Badarpur Border', 1): <gurobi.Constr *Awaiting Model Update*>,\n",
       " (473, 'Anand Vihar ISBT', 1): <gurobi.Constr *Awaiting Model Update*>,\n",
       " (473, 'Badarpur Border', 2): <gurobi.Constr *Awaiting Model Update*>,\n",
       " (473, 'Anand Vihar ISBT', 2): <gurobi.Constr *Awaiting Model Update*>,\n",
       " (473, 'Badarpur Border', 3): <gurobi.Constr *Awaiting Model Update*>,\n",
       " (473, 'Anand Vihar ISBT', 3): <gurobi.Constr *Awaiting Model Update*>,\n",
       " (473, 'Badarpur Border', 4): <gurobi.Constr *Awaiting Model Update*>,\n",
       " (473, 'Anand Vihar ISBT', 4): <gurobi.Constr *Awaiting Model Update*>,\n",
       " (507, 'Okhla Extn.', 1): <gurobi.Constr *Awaiting Model Update*>,\n",
       " (507, 'Dhaula Kuan', 1): <gurobi.Constr *Awaiting Model Update*>,\n",
       " (507, 'Okhla Extn.', 2): <gurobi.Constr *Awaiting Model Update*>,\n",
       " (507, 'Dhaula Kuan', 2): <gurobi.Constr *Awaiting Model Update*>,\n",
       " (507, 'Okhla Extn.', 3): <gurobi.Constr *Awaiting Model Update*>,\n",
       " (507, 'Dhaula Kuan', 3): <gurobi.Constr *Awaiting Model Update*>,\n",
       " (507, 'Okhla Extn.', 4): <gurobi.Constr *Awaiting Model Update*>,\n",
       " (507, 'Dhaula Kuan', 4): <gurobi.Constr *Awaiting Model Update*>,\n",
       " (544, 'Badarpur Border', 1): <gurobi.Constr *Awaiting Model Update*>,\n",
       " (544, 'RK Puram Sec-1 ', 1): <gurobi.Constr *Awaiting Model Update*>,\n",
       " (544, 'Badarpur Border', 2): <gurobi.Constr *Awaiting Model Update*>,\n",
       " (544, 'RK Puram Sec-1 ', 2): <gurobi.Constr *Awaiting Model Update*>,\n",
       " (544, 'Badarpur Border', 3): <gurobi.Constr *Awaiting Model Update*>,\n",
       " (544, 'RK Puram Sec-1 ', 3): <gurobi.Constr *Awaiting Model Update*>,\n",
       " (544, 'Badarpur Border', 4): <gurobi.Constr *Awaiting Model Update*>,\n",
       " (544, 'RK Puram Sec-1 ', 4): <gurobi.Constr *Awaiting Model Update*>,\n",
       " (39, 'Tri Nagar Market', 1): <gurobi.Constr *Awaiting Model Update*>,\n",
       " (39, 'Jheel', 1): <gurobi.Constr *Awaiting Model Update*>,\n",
       " (39, 'Tri Nagar Market', 2): <gurobi.Constr *Awaiting Model Update*>,\n",
       " (39, 'Jheel', 2): <gurobi.Constr *Awaiting Model Update*>,\n",
       " (39, 'Tri Nagar Market', 3): <gurobi.Constr *Awaiting Model Update*>,\n",
       " (39, 'Jheel', 3): <gurobi.Constr *Awaiting Model Update*>,\n",
       " (39, 'Tri Nagar Market', 4): <gurobi.Constr *Awaiting Model Update*>,\n",
       " (39, 'Jheel', 4): <gurobi.Constr *Awaiting Model Update*>,\n",
       " (85, 'Punjabi Bagh', 1): <gurobi.Constr *Awaiting Model Update*>,\n",
       " (85, 'Anand Vihar ISBT', 1): <gurobi.Constr *Awaiting Model Update*>,\n",
       " (85, 'Punjabi Bagh', 2): <gurobi.Constr *Awaiting Model Update*>,\n",
       " (85, 'Anand Vihar ISBT', 2): <gurobi.Constr *Awaiting Model Update*>,\n",
       " (85, 'Punjabi Bagh', 3): <gurobi.Constr *Awaiting Model Update*>,\n",
       " (85, 'Anand Vihar ISBT', 3): <gurobi.Constr *Awaiting Model Update*>,\n",
       " (85, 'Punjabi Bagh', 4): <gurobi.Constr *Awaiting Model Update*>,\n",
       " (85, 'Anand Vihar ISBT', 4): <gurobi.Constr *Awaiting Model Update*>,\n",
       " (448, 'Punjabi Bagh', 1): <gurobi.Constr *Awaiting Model Update*>,\n",
       " (448, 'Hauz Khas Metro', 1): <gurobi.Constr *Awaiting Model Update*>,\n",
       " (448, 'Punjabi Bagh', 2): <gurobi.Constr *Awaiting Model Update*>,\n",
       " (448, 'Hauz Khas Metro', 2): <gurobi.Constr *Awaiting Model Update*>,\n",
       " (448, 'Punjabi Bagh', 3): <gurobi.Constr *Awaiting Model Update*>,\n",
       " (448, 'Hauz Khas Metro', 3): <gurobi.Constr *Awaiting Model Update*>,\n",
       " (448, 'Punjabi Bagh', 4): <gurobi.Constr *Awaiting Model Update*>,\n",
       " (448, 'Hauz Khas Metro', 4): <gurobi.Constr *Awaiting Model Update*>,\n",
       " (479, 'Punjabi Bagh', 1): <gurobi.Constr *Awaiting Model Update*>,\n",
       " (479, 'Badarpur Border', 1): <gurobi.Constr *Awaiting Model Update*>,\n",
       " (479, 'Punjabi Bagh', 2): <gurobi.Constr *Awaiting Model Update*>,\n",
       " (479, 'Badarpur Border', 2): <gurobi.Constr *Awaiting Model Update*>,\n",
       " (479, 'Punjabi Bagh', 3): <gurobi.Constr *Awaiting Model Update*>,\n",
       " (479, 'Badarpur Border', 3): <gurobi.Constr *Awaiting Model Update*>,\n",
       " (610, 'Wazirpur Depot', 1): <gurobi.Constr *Awaiting Model Update*>,\n",
       " (610, 'RK Puram Sec-1', 1): <gurobi.Constr *Awaiting Model Update*>,\n",
       " (610, 'Wazirpur Depot', 2): <gurobi.Constr *Awaiting Model Update*>,\n",
       " (610, 'RK Puram Sec-1', 2): <gurobi.Constr *Awaiting Model Update*>,\n",
       " (610, 'Wazirpur Depot', 3): <gurobi.Constr *Awaiting Model Update*>,\n",
       " (610, 'RK Puram Sec-1', 3): <gurobi.Constr *Awaiting Model Update*>,\n",
       " (610, 'Wazirpur Depot', 4): <gurobi.Constr *Awaiting Model Update*>,\n",
       " (610, 'RK Puram Sec-1', 4): <gurobi.Constr *Awaiting Model Update*>,\n",
       " (610, 'Wazirpur Depot', 5): <gurobi.Constr *Awaiting Model Update*>,\n",
       " (610, 'RK Puram Sec-1', 5): <gurobi.Constr *Awaiting Model Update*>,\n",
       " ('TMS (-)', 'Wazirpur Depot', 1): <gurobi.Constr *Awaiting Model Update*>,\n",
       " ('TMS (-)', nan, 1): <gurobi.Constr *Awaiting Model Update*>,\n",
       " ('TMS (-)', 'Wazirpur Depot', 2): <gurobi.Constr *Awaiting Model Update*>,\n",
       " ('TMS (-)', nan, 2): <gurobi.Constr *Awaiting Model Update*>,\n",
       " ('TMS (-)', 'Wazirpur Depot', 3): <gurobi.Constr *Awaiting Model Update*>,\n",
       " ('TMS (-)', nan, 3): <gurobi.Constr *Awaiting Model Update*>,\n",
       " ('TMS (-)', 'Wazirpur Depot', 4): <gurobi.Constr *Awaiting Model Update*>,\n",
       " ('TMS (-)', nan, 4): <gurobi.Constr *Awaiting Model Update*>,\n",
       " ('TMS (-)', 'Wazirpur Depot', 5): <gurobi.Constr *Awaiting Model Update*>,\n",
       " ('TMS (-)', nan, 5): <gurobi.Constr *Awaiting Model Update*>}"
      ]
     },
     "execution_count": 250,
     "metadata": {},
     "output_type": "execute_result"
    }
   ],
   "source": [
    "mod.addConstrs((SOCmax * (gp.quicksum(x[i[0], b] * CAPb[b] for b in BAT)) >= e_dep[i] for i in specific_pairs_e_dep),\n",
    "               name=\"constraint_13\")"
   ]
  },
  {
   "cell_type": "code",
   "execution_count": 251,
   "metadata": {
    "id": "3Sw-0eMXtXYz"
   },
   "outputs": [],
   "source": [
    "nR = {}\n",
    "for i in range(0, len(R)):\n",
    "  nR[R[i]] = f2[f2['Route no.'] == R[i]]['Fleet size'].values[0]"
   ]
  },
  {
   "cell_type": "code",
   "execution_count": 252,
   "metadata": {
    "colab": {
     "base_uri": "https://localhost:8080/"
    },
    "id": "KrXoOoAhux1W",
    "outputId": "1f00cdda-a1f2-49be-9eea-3362ec5593eb"
   },
   "outputs": [
    {
     "data": {
      "text/plain": [
       "{0: <gurobi.Constr *Awaiting Model Update*>,\n",
       " 1: <gurobi.Constr *Awaiting Model Update*>,\n",
       " 2: <gurobi.Constr *Awaiting Model Update*>}"
      ]
     },
     "execution_count": 252,
     "metadata": {},
     "output_type": "execute_result"
    }
   ],
   "source": [
    "mod.addConstrs((gp.quicksum(nR[j] * (enr_d[j, D[i]] / NCTr) for j in RD[i]) <= gp.quicksum(CPsc[k] * m[D[i], k] for k in SCS) for i in range(0, len(D))),\n",
    "               name=\"constraint_14\")"
   ]
  },
  {
   "cell_type": "code",
   "execution_count": 253,
   "metadata": {
    "colab": {
     "base_uri": "https://localhost:8080/"
    },
    "id": "R_2o-wuoskRZ",
    "outputId": "eca9c242-7ff1-45a9-c2fa-b5f19c52503c"
   },
   "outputs": [
    {
     "data": {
      "text/plain": [
       "{(0, 0): <gurobi.Constr *Awaiting Model Update*>,\n",
       " (0, 1): <gurobi.Constr *Awaiting Model Update*>,\n",
       " (1, 0): <gurobi.Constr *Awaiting Model Update*>,\n",
       " (1, 1): <gurobi.Constr *Awaiting Model Update*>,\n",
       " (2, 0): <gurobi.Constr *Awaiting Model Update*>,\n",
       " (2, 1): <gurobi.Constr *Awaiting Model Update*>}"
      ]
     },
     "execution_count": 253,
     "metadata": {},
     "output_type": "execute_result"
    }
   ],
   "source": [
    "mod.addConstrs((m[D[i], sc] <= 100 * y[D[i], sc]for i in range(0, len(D)) for sc in SCS),\n",
    "               name=\"constraint_15\")"
   ]
  },
  {
   "cell_type": "code",
   "execution_count": 254,
   "metadata": {
    "colab": {
     "base_uri": "https://localhost:8080/"
    },
    "id": "p7jR1KP08ay2",
    "outputId": "28a5fef9-6c92-41d7-86cc-f97e1394f977"
   },
   "outputs": [
    {
     "data": {
      "text/plain": [
       "{(0, 73): <gurobi.Constr *Awaiting Model Update*>,\n",
       " (0, 'OMS (+) & (-)'): <gurobi.Constr *Awaiting Model Update*>,\n",
       " (0, 473): <gurobi.Constr *Awaiting Model Update*>,\n",
       " (0, 85): <gurobi.Constr *Awaiting Model Update*>,\n",
       " (1, 405): <gurobi.Constr *Awaiting Model Update*>,\n",
       " (1, 433): <gurobi.Constr *Awaiting Model Update*>,\n",
       " (1, 460): <gurobi.Constr *Awaiting Model Update*>,\n",
       " (1, 473): <gurobi.Constr *Awaiting Model Update*>,\n",
       " (1, 544): <gurobi.Constr *Awaiting Model Update*>,\n",
       " (1, 479): <gurobi.Constr *Awaiting Model Update*>,\n",
       " (2, 835): <gurobi.Constr *Awaiting Model Update*>,\n",
       " (3, 507): <gurobi.Constr *Awaiting Model Update*>,\n",
       " (4, '234A'): <gurobi.Constr *Awaiting Model Update*>,\n",
       " (5, 448): <gurobi.Constr *Awaiting Model Update*>,\n",
       " (6, 588): <gurobi.Constr *Awaiting Model Update*>,\n",
       " (7, 879): <gurobi.Constr *Awaiting Model Update*>,\n",
       " (8, 39): <gurobi.Constr *Awaiting Model Update*>,\n",
       " (9, 460): <gurobi.Constr *Awaiting Model Update*>,\n",
       " (10, 405): <gurobi.Constr *Awaiting Model Update*>,\n",
       " (11, 433): <gurobi.Constr *Awaiting Model Update*>,\n",
       " (12, 507): <gurobi.Constr *Awaiting Model Update*>,\n",
       " (13, 73): <gurobi.Constr *Awaiting Model Update*>,\n",
       " (14, 85): <gurobi.Constr *Awaiting Model Update*>,\n",
       " (14, 448): <gurobi.Constr *Awaiting Model Update*>,\n",
       " (14, 479): <gurobi.Constr *Awaiting Model Update*>,\n",
       " (15, 610): <gurobi.Constr *Awaiting Model Update*>,\n",
       " (16, 879): <gurobi.Constr *Awaiting Model Update*>,\n",
       " (17, '234A'): <gurobi.Constr *Awaiting Model Update*>,\n",
       " (17, 835): <gurobi.Constr *Awaiting Model Update*>,\n",
       " (18, 39): <gurobi.Constr *Awaiting Model Update*>,\n",
       " (19, 588): <gurobi.Constr *Awaiting Model Update*>,\n",
       " (19, 'OMS (+) & (-)'): <gurobi.Constr *Awaiting Model Update*>,\n",
       " (20, 610): <gurobi.Constr *Awaiting Model Update*>,\n",
       " (20, 'TMS (-)'): <gurobi.Constr *Awaiting Model Update*>}"
      ]
     },
     "execution_count": 254,
     "metadata": {},
     "output_type": "execute_result"
    }
   ],
   "source": [
    "mod.addConstrs((enr_t[r, T[t]] <= 100000 * gp.quicksum(z[T[t], fc] for fc in FCS) for t in range(0, len(T)) for r in RT[t]),\n",
    "    name=\"constraint_16\")"
   ]
  },
  {
   "cell_type": "code",
   "execution_count": 255,
   "metadata": {
    "colab": {
     "base_uri": "https://localhost:8080/"
    },
    "id": "uJGXCRnX-G7D",
    "outputId": "12170d6e-e0b1-41f8-fbea-6a65f0133ebe"
   },
   "outputs": [
    {
     "data": {
      "text/plain": [
       "{(0, 0): <gurobi.Constr *Awaiting Model Update*>,\n",
       " (0, 1): <gurobi.Constr *Awaiting Model Update*>,\n",
       " (0, 2): <gurobi.Constr *Awaiting Model Update*>,\n",
       " (0, 3): <gurobi.Constr *Awaiting Model Update*>,\n",
       " (0, 4): <gurobi.Constr *Awaiting Model Update*>,\n",
       " (0, 5): <gurobi.Constr *Awaiting Model Update*>,\n",
       " (0, 6): <gurobi.Constr *Awaiting Model Update*>,\n",
       " (0, 7): <gurobi.Constr *Awaiting Model Update*>,\n",
       " (0, 8): <gurobi.Constr *Awaiting Model Update*>,\n",
       " (0, 9): <gurobi.Constr *Awaiting Model Update*>,\n",
       " (0, 10): <gurobi.Constr *Awaiting Model Update*>,\n",
       " (0, 11): <gurobi.Constr *Awaiting Model Update*>,\n",
       " (0, 12): <gurobi.Constr *Awaiting Model Update*>,\n",
       " (0, 13): <gurobi.Constr *Awaiting Model Update*>,\n",
       " (0, 14): <gurobi.Constr *Awaiting Model Update*>,\n",
       " (0, 15): <gurobi.Constr *Awaiting Model Update*>,\n",
       " (0, 16): <gurobi.Constr *Awaiting Model Update*>,\n",
       " (0, 17): <gurobi.Constr *Awaiting Model Update*>,\n",
       " (0, 18): <gurobi.Constr *Awaiting Model Update*>,\n",
       " (0, 19): <gurobi.Constr *Awaiting Model Update*>,\n",
       " (0, 20): <gurobi.Constr *Awaiting Model Update*>,\n",
       " (1, 0): <gurobi.Constr *Awaiting Model Update*>,\n",
       " (1, 1): <gurobi.Constr *Awaiting Model Update*>,\n",
       " (1, 2): <gurobi.Constr *Awaiting Model Update*>,\n",
       " (1, 3): <gurobi.Constr *Awaiting Model Update*>,\n",
       " (1, 4): <gurobi.Constr *Awaiting Model Update*>,\n",
       " (1, 5): <gurobi.Constr *Awaiting Model Update*>,\n",
       " (1, 6): <gurobi.Constr *Awaiting Model Update*>,\n",
       " (1, 7): <gurobi.Constr *Awaiting Model Update*>,\n",
       " (1, 8): <gurobi.Constr *Awaiting Model Update*>,\n",
       " (1, 9): <gurobi.Constr *Awaiting Model Update*>,\n",
       " (1, 10): <gurobi.Constr *Awaiting Model Update*>,\n",
       " (1, 11): <gurobi.Constr *Awaiting Model Update*>,\n",
       " (1, 12): <gurobi.Constr *Awaiting Model Update*>,\n",
       " (1, 13): <gurobi.Constr *Awaiting Model Update*>,\n",
       " (1, 14): <gurobi.Constr *Awaiting Model Update*>,\n",
       " (1, 15): <gurobi.Constr *Awaiting Model Update*>,\n",
       " (1, 16): <gurobi.Constr *Awaiting Model Update*>,\n",
       " (1, 17): <gurobi.Constr *Awaiting Model Update*>,\n",
       " (1, 18): <gurobi.Constr *Awaiting Model Update*>,\n",
       " (1, 19): <gurobi.Constr *Awaiting Model Update*>,\n",
       " (1, 20): <gurobi.Constr *Awaiting Model Update*>,\n",
       " (2, 0): <gurobi.Constr *Awaiting Model Update*>,\n",
       " (2, 1): <gurobi.Constr *Awaiting Model Update*>,\n",
       " (2, 2): <gurobi.Constr *Awaiting Model Update*>,\n",
       " (2, 3): <gurobi.Constr *Awaiting Model Update*>,\n",
       " (2, 4): <gurobi.Constr *Awaiting Model Update*>,\n",
       " (2, 5): <gurobi.Constr *Awaiting Model Update*>,\n",
       " (2, 6): <gurobi.Constr *Awaiting Model Update*>,\n",
       " (2, 7): <gurobi.Constr *Awaiting Model Update*>,\n",
       " (2, 8): <gurobi.Constr *Awaiting Model Update*>,\n",
       " (2, 9): <gurobi.Constr *Awaiting Model Update*>,\n",
       " (2, 10): <gurobi.Constr *Awaiting Model Update*>,\n",
       " (2, 11): <gurobi.Constr *Awaiting Model Update*>,\n",
       " (2, 12): <gurobi.Constr *Awaiting Model Update*>,\n",
       " (2, 13): <gurobi.Constr *Awaiting Model Update*>,\n",
       " (2, 14): <gurobi.Constr *Awaiting Model Update*>,\n",
       " (2, 15): <gurobi.Constr *Awaiting Model Update*>,\n",
       " (2, 16): <gurobi.Constr *Awaiting Model Update*>,\n",
       " (2, 17): <gurobi.Constr *Awaiting Model Update*>,\n",
       " (2, 18): <gurobi.Constr *Awaiting Model Update*>,\n",
       " (2, 19): <gurobi.Constr *Awaiting Model Update*>,\n",
       " (2, 20): <gurobi.Constr *Awaiting Model Update*>}"
      ]
     },
     "execution_count": 255,
     "metadata": {},
     "output_type": "execute_result"
    }
   ],
   "source": [
    "mod.addConstrs((n[T[t], fc] <= len(RT[t]) * z[T[t], fc] for fc in FCS for t in range(0, len(T))),\n",
    "               name=\"constraint_17\")"
   ]
  },
  {
   "cell_type": "code",
   "execution_count": 256,
   "metadata": {
    "id": "Vy2f0xDg7joE"
   },
   "outputs": [],
   "source": [
    "mod.addConstrs(\n",
    "    (gp.quicksum(z[t,fc] for fc in FCS) <= 1 for t in T),\n",
    "    name=\"constraint_18\");"
   ]
  },
  {
   "cell_type": "markdown",
   "metadata": {
    "id": "x19qWXLo5USh"
   },
   "source": [
    "BAT=[0,1,2]\n",
    "SCS=[0,1]\n",
    "FCS=[0,1,2]\n",
    "CAPb=[120,250,350]\n",
    "CPsc=[20,30]\n",
    "CPfc=[150,300,450]\n",
    "Cf1=2\n",
    "Cf2=3\n",
    "Cf3sc=[0.5,0.7]\n",
    "Cf4fc=[4.5,8,12]\n",
    "Cb=[10,20,30]\n",
    "Ce=28\n",
    "Eri=2\n",
    "ETECr=1.5\n",
    "SOCmax=0.9\n",
    "SOCmin=0.2\n",
    "NCTr=5\n",
    "ecdc=0.05\n",
    "CTc=0"
   ]
  },
  {
   "cell_type": "code",
   "execution_count": 257,
   "metadata": {
    "id": "ghl8KGWWX96i"
   },
   "outputs": [],
   "source": [
    "xyz = {}\n",
    "for i in range(0, len(R)):\n",
    "  xyz[R[i]] = f2[f2['Route no.'] == R[i]]['Trips per bus'].values[0]\n",
    "# f2.columns\n",
    "\n",
    "no_of_buses = {}\n",
    "for i in range(0, len(R)):\n",
    "  no_of_buses[R[i]] = f2[f2['Route no.'] == R[i]]['Fleet size'].values[0]"
   ]
  },
  {
   "cell_type": "code",
   "execution_count": 258,
   "metadata": {
    "id": "DH19tpH84vRz"
   },
   "outputs": [],
   "source": [
    "mod.setObjective((gp.quicksum(Cb[b] * x[r, b] for b in BAT for r in R) +\n",
    "                Cf1 * gp.quicksum(y[d, sc] for sc in SCS for d in D) +\n",
    "                Cf2 * gp.quicksum(z[t, fc] for fc in FCS for t in T) +\n",
    "                gp.quicksum(Cf3sc[sc] * m[d, sc] for sc in SCS for d in D) +\n",
    "                gp.quicksum(Cf4fc[fc] * n[t, fc] for fc in FCS for t in T) +\n",
    "                Ce * 365 * (gp.quicksum(enr_d[r,D[d]] * no_of_buses[r] for d in range(0, len(D)) for r in RD[d])) +\n",
    "                Ce * 365 * gp.quicksum(enr_t[r,T[t]] * xyz[r] * no_of_buses[r] for t in range(0, len(T)) for r in RT[t])),\n",
    "                GRB.MINIMIZE)\n",
    "# mod.addConstrs((enr_t[r,T[t]] <= 100000*gp.quicksum(z[T[t], fc] for fc in FCS) for t in range(0, len(T)) for r in RT[t]),\n",
    "# name=\"constraint_16\")"
   ]
  },
  {
   "cell_type": "code",
   "execution_count": 259,
   "metadata": {
    "colab": {
     "base_uri": "https://localhost:8080/"
    },
    "id": "mU-uKUdE8nia",
    "outputId": "94afe161-8156-4e91-f9ae-069bc31d1ce8"
   },
   "outputs": [
    {
     "name": "stdout",
     "output_type": "stream",
     "text": [
      "Gurobi Optimizer version 11.0.0 build v11.0.0rc2 (mac64[arm] - Darwin 24.4.0 24E263)\n",
      "\n",
      "CPU model: Apple M2\n",
      "Thread count: 8 physical cores, 8 logical processors, using up to 8 threads\n",
      "\n",
      "Optimize a model with 1087 rows, 560 columns and 3757 nonzeros\n",
      "Model fingerprint: 0x275379b0\n",
      "Variable types: 368 continuous, 192 integer (123 binary)\n",
      "Coefficient statistics:\n",
      "  Matrix range     [1e+00, 1e+05]\n",
      "  Objective range  [5e-01, 9e+05]\n",
      "  Bounds range     [1e+00, 1e+00]\n",
      "  RHS range        [1e+00, 1e+02]\n",
      "Presolve removed 957 rows and 495 columns\n",
      "Presolve time: 0.04s\n",
      "Presolved: 130 rows, 65 columns, 384 nonzeros\n",
      "Variable types: 36 continuous, 29 integer (22 binary)\n",
      "Found heuristic solution: objective 1.152782e+09\n",
      "Found heuristic solution: objective 1.151963e+09\n",
      "\n",
      "Root relaxation: objective 1.112253e+09, 56 iterations, 0.00 seconds (0.00 work units)\n",
      "\n",
      "    Nodes    |    Current Node    |     Objective Bounds      |     Work\n",
      " Expl Unexpl |  Obj  Depth IntInf | Incumbent    BestBd   Gap | It/Node Time\n",
      "\n",
      "     0     0 1.1123e+09    0    7 1.1520e+09 1.1123e+09  3.45%     -    0s\n",
      "H    0     0                    1.112253e+09 1.1123e+09  0.00%     -    0s\n",
      "\n",
      "Explored 1 nodes (56 simplex iterations) in 0.05 seconds (0.02 work units)\n",
      "Thread count was 8 (of 8 available processors)\n",
      "\n",
      "Solution count 3: 1.11225e+09 1.15196e+09 1.15278e+09 \n",
      "\n",
      "Optimal solution found (tolerance 1.00e-04)\n",
      "Best objective 1.112253185100e+09, best bound 1.112253172469e+09, gap 0.0000%\n"
     ]
    }
   ],
   "source": [
    "# mod.setParam(\"NumericFocus\", 3)\n",
    "mod.optimize()"
   ]
  },
  {
   "cell_type": "code",
   "execution_count": 260,
   "metadata": {
    "colab": {
     "base_uri": "https://localhost:8080/"
    },
    "id": "QuwgvZEmU8Tx",
    "outputId": "ff8a606f-b515-4223-8cfa-e60d32ae1398"
   },
   "outputs": [
    {
     "name": "stdout",
     "output_type": "stream",
     "text": [
      "Optimal objective value: $ 1112253185.1\n",
      "x[73,0]: 0.0\n",
      "x[73,1]: 0.0\n",
      "x[73,2]: 1.0\n",
      "x[234A,0]: 0.0\n",
      "x[234A,1]: 0.0\n",
      "x[234A,2]: 1.0\n",
      "x[588,0]: 0.0\n",
      "x[588,1]: 0.0\n",
      "x[588,2]: 1.0\n",
      "x[879,0]: 0.0\n",
      "x[879,1]: 0.0\n",
      "x[879,2]: 1.0\n",
      "x[835,0]: 0.0\n",
      "x[835,1]: 0.0\n",
      "x[835,2]: 1.0\n",
      "x[OMS (+) & (-),0]: 0.0\n",
      "x[OMS (+) & (-),1]: 0.0\n",
      "x[OMS (+) & (-),2]: 1.0\n",
      "x[405,0]: 0.0\n",
      "x[405,1]: 0.0\n",
      "x[405,2]: 1.0\n",
      "x[433,0]: 0.0\n",
      "x[433,1]: 0.0\n",
      "x[433,2]: 1.0\n",
      "x[460,0]: 0.0\n",
      "x[460,1]: 0.0\n",
      "x[460,2]: 1.0\n",
      "x[473,0]: 0.0\n",
      "x[473,1]: 0.0\n",
      "x[473,2]: 1.0\n",
      "x[507,0]: 0.0\n",
      "x[507,1]: 0.0\n",
      "x[507,2]: 1.0\n",
      "x[544,0]: 0.0\n",
      "x[544,1]: 1.0\n",
      "x[544,2]: 0.0\n",
      "x[39,0]: 0.0\n",
      "x[39,1]: 0.0\n",
      "x[39,2]: 1.0\n",
      "x[85,0]: 0.0\n",
      "x[85,1]: 0.0\n",
      "x[85,2]: 1.0\n",
      "x[448,0]: 0.0\n",
      "x[448,1]: 0.0\n",
      "x[448,2]: 1.0\n",
      "x[479,0]: 0.0\n",
      "x[479,1]: 0.0\n",
      "x[479,2]: 1.0\n",
      "x[610,0]: 0.0\n",
      "x[610,1]: 0.0\n",
      "x[610,2]: 1.0\n",
      "x[TMS (-),0]: 0.0\n",
      "x[TMS (-),1]: 1.0\n",
      "x[TMS (-),2]: 0.0\n",
      "y[Hari Nagar,0]: 1.0\n",
      "y[Hari Nagar,1]: 1.0\n",
      "y[Sukhdev Vihar,0]: 1.0\n",
      "y[Sukhdev Vihar,1]: 1.0\n",
      "y[Subhash Place,0]: 1.0\n",
      "y[Subhash Place,1]: 1.0\n",
      "z[Anand Vihar ISBT,0]: 0.0\n",
      "z[Anand Vihar ISBT,1]: 0.0\n",
      "z[Anand Vihar ISBT,2]: 1.0\n",
      "z[Badarpur Border,0]: 1.0\n",
      "z[Badarpur Border,1]: 0.0\n",
      "z[Badarpur Border,2]: 0.0\n",
      "z[Dhansa Border,0]: 0.0\n",
      "z[Dhansa Border,1]: 0.0\n",
      "z[Dhansa Border,2]: 0.0\n",
      "z[Dhaula Kuan,0]: 0.0\n",
      "z[Dhaula Kuan,1]: 0.0\n",
      "z[Dhaula Kuan,2]: 0.0\n",
      "z[Harsh Vihar,0]: 0.0\n",
      "z[Harsh Vihar,1]: 0.0\n",
      "z[Harsh Vihar,2]: 0.0\n",
      "z[Hauz Khas Metro,0]: 0.0\n",
      "z[Hauz Khas Metro,1]: 0.0\n",
      "z[Hauz Khas Metro,2]: 0.0\n",
      "z[JLN Stadium,0]: 0.0\n",
      "z[JLN Stadium,1]: 0.0\n",
      "z[JLN Stadium,2]: 0.0\n",
      "z[Janak Puri D-Block,0]: 0.0\n",
      "z[Janak Puri D-Block,1]: 1.0\n",
      "z[Janak Puri D-Block,2]: 0.0\n",
      "z[Jheel,0]: 0.0\n",
      "z[Jheel,1]: 0.0\n",
      "z[Jheel,2]: 0.0\n",
      "z[Minto road,0]: 0.0\n",
      "z[Minto road,1]: 0.0\n",
      "z[Minto road,2]: 0.0\n",
      "z[Mori Gate,0]: 0.0\n",
      "z[Mori Gate,1]: 0.0\n",
      "z[Mori Gate,2]: 0.0\n",
      "z[ND Rly Station,0]: 0.0\n",
      "z[ND Rly Station,1]: 0.0\n",
      "z[ND Rly Station,2]: 0.0\n",
      "z[Okhla Extn.,0]: 1.0\n",
      "z[Okhla Extn.,1]: 0.0\n",
      "z[Okhla Extn.,2]: 0.0\n",
      "z[P Shahni Chow,0]: 0.0\n",
      "z[P Shahni Chow,1]: 1.0\n",
      "z[P Shahni Chow,2]: 0.0\n",
      "z[Punjabi Bagh,0]: 1.0\n",
      "z[Punjabi Bagh,1]: 0.0\n",
      "z[Punjabi Bagh,2]: 0.0\n",
      "z[RK Puram Sec-1,0]: 1.0\n",
      "z[RK Puram Sec-1,1]: 0.0\n",
      "z[RK Puram Sec-1,2]: 0.0\n",
      "z[Rohini Sec-16,0]: 0.0\n",
      "z[Rohini Sec-16,1]: 0.0\n",
      "z[Rohini Sec-16,2]: 0.0\n",
      "z[Tilak Nagar,0]: 1.0\n",
      "z[Tilak Nagar,1]: 0.0\n",
      "z[Tilak Nagar,2]: 0.0\n",
      "z[Tri Nagar Market,0]: 1.0\n",
      "z[Tri Nagar Market,1]: 0.0\n",
      "z[Tri Nagar Market,2]: 0.0\n",
      "z[Uttam Nagar,0]: 0.0\n",
      "z[Uttam Nagar,1]: 1.0\n",
      "z[Uttam Nagar,2]: 0.0\n",
      "z[Wazirpur Depot,0]: 0.0\n",
      "z[Wazirpur Depot,1]: 0.0\n",
      "z[Wazirpur Depot,2]: 0.0\n",
      "m[Hari Nagar,0]: 88.0\n",
      "m[Hari Nagar,1]: 99.0\n",
      "m[Sukhdev Vihar,0]: 66.0\n",
      "m[Sukhdev Vihar,1]: 99.0\n",
      "m[Subhash Place,0]: 57.0\n",
      "m[Subhash Place,1]: 100.0\n",
      "n[Anand Vihar ISBT,0]: 0.0\n",
      "n[Anand Vihar ISBT,1]: 0.0\n",
      "n[Anand Vihar ISBT,2]: 0.0\n",
      "n[Badarpur Border,0]: 0.0\n",
      "n[Badarpur Border,1]: 0.0\n",
      "n[Badarpur Border,2]: 0.0\n",
      "n[Dhansa Border,0]: 0.0\n",
      "n[Dhansa Border,1]: 0.0\n",
      "n[Dhansa Border,2]: 0.0\n",
      "n[Dhaula Kuan,0]: 0.0\n",
      "n[Dhaula Kuan,1]: 0.0\n",
      "n[Dhaula Kuan,2]: 0.0\n",
      "n[Harsh Vihar,0]: 0.0\n",
      "n[Harsh Vihar,1]: 0.0\n",
      "n[Harsh Vihar,2]: 0.0\n",
      "n[Hauz Khas Metro,0]: 0.0\n",
      "n[Hauz Khas Metro,1]: 0.0\n",
      "n[Hauz Khas Metro,2]: 0.0\n",
      "n[JLN Stadium,0]: 0.0\n",
      "n[JLN Stadium,1]: 0.0\n",
      "n[JLN Stadium,2]: 0.0\n",
      "n[Janak Puri D-Block,0]: 0.0\n",
      "n[Janak Puri D-Block,1]: 0.0\n",
      "n[Janak Puri D-Block,2]: 0.0\n",
      "n[Jheel,0]: 0.0\n",
      "n[Jheel,1]: 0.0\n",
      "n[Jheel,2]: 0.0\n",
      "n[Minto road,0]: 0.0\n",
      "n[Minto road,1]: 0.0\n",
      "n[Minto road,2]: 0.0\n",
      "n[Mori Gate,0]: 0.0\n",
      "n[Mori Gate,1]: 0.0\n",
      "n[Mori Gate,2]: 0.0\n",
      "n[ND Rly Station,0]: 0.0\n",
      "n[ND Rly Station,1]: 0.0\n",
      "n[ND Rly Station,2]: 0.0\n",
      "n[Okhla Extn.,0]: 0.0\n",
      "n[Okhla Extn.,1]: 0.0\n",
      "n[Okhla Extn.,2]: 0.0\n",
      "n[P Shahni Chow,0]: 0.0\n",
      "n[P Shahni Chow,1]: 0.0\n",
      "n[P Shahni Chow,2]: 0.0\n",
      "n[Punjabi Bagh,0]: 0.0\n",
      "n[Punjabi Bagh,1]: 0.0\n",
      "n[Punjabi Bagh,2]: 0.0\n",
      "n[RK Puram Sec-1,0]: 0.0\n",
      "n[RK Puram Sec-1,1]: 0.0\n",
      "n[RK Puram Sec-1,2]: 0.0\n",
      "n[Rohini Sec-16,0]: 0.0\n",
      "n[Rohini Sec-16,1]: 0.0\n",
      "n[Rohini Sec-16,2]: 0.0\n",
      "n[Tilak Nagar,0]: 0.0\n",
      "n[Tilak Nagar,1]: 0.0\n",
      "n[Tilak Nagar,2]: 0.0\n",
      "n[Tri Nagar Market,0]: 0.0\n",
      "n[Tri Nagar Market,1]: 0.0\n",
      "n[Tri Nagar Market,2]: 0.0\n",
      "n[Uttam Nagar,0]: 0.0\n",
      "n[Uttam Nagar,1]: 0.0\n",
      "n[Uttam Nagar,2]: 0.0\n",
      "n[Wazirpur Depot,0]: 0.0\n",
      "n[Wazirpur Depot,1]: 0.0\n",
      "n[Wazirpur Depot,2]: 0.0\n",
      "e_arr[73,P Shahni Chow,1]: 256.2\n",
      "e_arr[73,Anand Vihar ISBT,1]: 254.85\n",
      "e_arr[73,P Shahni Chow,2]: 194.13333333333333\n",
      "e_arr[73,Anand Vihar ISBT,2]: 208.13904761904755\n",
      "e_arr[73,P Shahni Chow,3]: 132.06666666666666\n",
      "e_arr[73,Anand Vihar ISBT,3]: 146.0723809523809\n",
      "e_arr[73,P Shahni Chow,4]: 70.0\n",
      "e_arr[73,Anand Vihar ISBT,4]: 84.0057142857142\n",
      "e_arr[73,P Shahni Chow,0]: 313.65\n",
      "e_arr[234A,Tilak Nagar,1]: 269.0\n",
      "e_arr[234A,Harsh Vihar,1]: 267.05\n",
      "e_arr[234A,Tilak Nagar,2]: 219.25\n",
      "e_arr[234A,Harsh Vihar,2]: 265.25\n",
      "e_arr[234A,Tilak Nagar,3]: 169.5\n",
      "e_arr[234A,Harsh Vihar,3]: 215.5\n",
      "e_arr[234A,Tilak Nagar,4]: 119.75\n",
      "e_arr[234A,Harsh Vihar,4]: 165.75\n",
      "e_arr[234A,Tilak Nagar,5]: 70.0\n",
      "e_arr[234A,Harsh Vihar,5]: 116.0\n",
      "e_arr[234A,Tilak Nagar,0]: 313.05\n",
      "e_arr[588,Uttam Nagar,1]: 280.0\n",
      "e_arr[588,JLN Stadium,1]: 272.95\n",
      "e_arr[588,Uttam Nagar,2]: 238.0\n",
      "e_arr[588,JLN Stadium,2]: 273.0\n",
      "e_arr[588,Uttam Nagar,3]: 196.0\n",
      "e_arr[588,JLN Stadium,3]: 231.0\n",
      "e_arr[588,Uttam Nagar,4]: 154.0\n",
      "e_arr[588,JLN Stadium,4]: 189.0\n",
      "e_arr[588,Uttam Nagar,5]: 112.0\n",
      "e_arr[588,JLN Stadium,5]: 147.0\n",
      "e_arr[588,Uttam Nagar,6]: 70.0\n",
      "e_arr[588,JLN Stadium,6]: 105.0\n",
      "e_arr[588,Uttam Nagar,0]: 307.95\n",
      "e_arr[879,Janak Puri D-Block,1]: 258.2\n",
      "e_arr[879,Rohini Sec-16,1]: 255.5\n",
      "e_arr[879,Janak Puri D-Block,2]: 195.46666666666667\n",
      "e_arr[879,Rohini Sec-16,2]: 252.26666666666668\n",
      "e_arr[879,Janak Puri D-Block,3]: 132.73333333333332\n",
      "e_arr[879,Rohini Sec-16,3]: 189.53333333333333\n",
      "e_arr[879,Janak Puri D-Block,4]: 70.0\n",
      "e_arr[879,Rohini Sec-16,4]: 126.8\n",
      "e_arr[879,Janak Puri D-Block,0]: 312.3\n",
      "e_arr[835,Tilak Nagar,1]: 256.2\n",
      "e_arr[835,Dhansa Border,1]: 253.95\n",
      "e_arr[835,Tilak Nagar,2]: 194.13333333333333\n",
      "e_arr[835,Dhansa Border,2]: 252.93333333333334\n",
      "e_arr[835,Tilak Nagar,3]: 132.06666666666666\n",
      "e_arr[835,Dhansa Border,3]: 190.86666666666667\n",
      "e_arr[835,Tilak Nagar,4]: 70.0\n",
      "e_arr[835,Dhansa Border,4]: 128.8\n",
      "e_arr[835,Tilak Nagar,0]: 312.75\n",
      "e_arr[OMS (+) & (-),Uttam Nagar,1]: 217.0\n",
      "e_arr[OMS (+) & (-),Anand Vihar ISBT,1]: 209.95\n",
      "e_arr[OMS (+) & (-),Uttam Nagar,2]: 70.0\n",
      "e_arr[OMS (+) & (-),Anand Vihar ISBT,2]: 130.2\n",
      "e_arr[OMS (+) & (-),Uttam Nagar,0]: 307.95\n",
      "e_arr[405,Badarpur Border,1]: 270.6\n",
      "e_arr[405,Mori Gate,1]: 259.05\n",
      "e_arr[405,Badarpur Border,2]: 203.73333333333332\n",
      "e_arr[405,Mori Gate,2]: 248.13333333333333\n",
      "e_arr[405,Badarpur Border,3]: 136.86666666666667\n",
      "e_arr[405,Mori Gate,3]: 181.26666666666668\n",
      "e_arr[405,Badarpur Border,4]: 70.0\n",
      "e_arr[405,Mori Gate,4]: 114.4\n",
      "e_arr[405,Badarpur Border,0]: 303.45\n",
      "e_arr[433,Badarpur Border,1]: 261.6\n",
      "e_arr[433,ND Rly Station,1]: 250.05\n",
      "e_arr[433,Badarpur Border,2]: 197.73333333333332\n",
      "e_arr[433,ND Rly Station,2]: 251.13333333333333\n",
      "e_arr[433,Badarpur Border,3]: 133.86666666666667\n",
      "e_arr[433,ND Rly Station,3]: 187.26666666666668\n",
      "e_arr[433,Badarpur Border,4]: 70.0\n",
      "e_arr[433,ND Rly Station,4]: 123.4\n",
      "e_arr[433,Badarpur Border,0]: 303.45\n",
      "e_arr[460,Badarpur Border,1]: 265.0\n",
      "e_arr[460,Minto road,1]: 253.45\n",
      "e_arr[460,Badarpur Border,2]: 200.0\n",
      "e_arr[460,Minto road,2]: 250.0\n",
      "e_arr[460,Badarpur Border,3]: 135.0\n",
      "e_arr[460,Minto road,3]: 185.0\n",
      "e_arr[460,Badarpur Border,4]: 70.0\n",
      "e_arr[460,Minto road,4]: 120.0\n",
      "e_arr[460,Badarpur Border,0]: 303.45\n",
      "e_arr[473,Badarpur Border,1]: 259.0\n",
      "e_arr[473,Anand Vihar ISBT,1]: 247.45\n",
      "e_arr[473,Badarpur Border,2]: 196.0\n",
      "e_arr[473,Anand Vihar ISBT,2]: 203.0\n",
      "e_arr[473,Badarpur Border,3]: 133.0\n",
      "e_arr[473,Anand Vihar ISBT,3]: 140.0\n",
      "e_arr[473,Badarpur Border,4]: 70.0\n",
      "e_arr[473,Anand Vihar ISBT,4]: 77.0\n",
      "e_arr[473,Badarpur Border,0]: 303.45\n",
      "e_arr[507,Okhla Extn.,1]: 265.8\n",
      "e_arr[507,Dhaula Kuan,1]: 258.0\n",
      "e_arr[507,Okhla Extn.,2]: 200.53333333333333\n",
      "e_arr[507,Dhaula Kuan,2]: 249.73333333333332\n",
      "e_arr[507,Okhla Extn.,3]: 135.26666666666668\n",
      "e_arr[507,Dhaula Kuan,3]: 184.46666666666667\n",
      "e_arr[507,Okhla Extn.,4]: 70.0\n",
      "e_arr[507,Dhaula Kuan,4]: 119.2\n",
      "e_arr[507,Okhla Extn.,0]: 307.2\n",
      "e_arr[544,Badarpur Border,1]: 173.4\n",
      "e_arr[544,RK Puram Sec-1 ,1]: 161.85\n",
      "e_arr[544,Badarpur Border,2]: 173.4\n",
      "e_arr[544,RK Puram Sec-1 ,2]: 121.8\n",
      "e_arr[544,Badarpur Border,3]: 173.4\n",
      "e_arr[544,RK Puram Sec-1 ,3]: 121.8\n",
      "e_arr[544,Badarpur Border,4]: 173.4\n",
      "e_arr[544,RK Puram Sec-1 ,4]: 121.8\n",
      "e_arr[544,Badarpur Border,0]: 213.45\n",
      "e_arr[39,Tri Nagar Market,1]: 267.2\n",
      "e_arr[39,Jheel,1]: 263.6\n",
      "e_arr[39,Tri Nagar Market,2]: 201.46666666666667\n",
      "e_arr[39,Jheel,2]: 249.26666666666668\n",
      "e_arr[39,Tri Nagar Market,3]: 135.73333333333332\n",
      "e_arr[39,Jheel,3]: 183.53333333333333\n",
      "e_arr[39,Tri Nagar Market,4]: 70.0\n",
      "e_arr[39,Jheel,4]: 117.8\n",
      "e_arr[39,Tri Nagar Market,0]: 311.4\n",
      "e_arr[85,Punjabi Bagh,1]: 256.6\n",
      "e_arr[85,Anand Vihar ISBT,1]: 250.6\n",
      "e_arr[85,Punjabi Bagh,2]: 194.4\n",
      "e_arr[85,Anand Vihar ISBT,2]: 198.2\n",
      "e_arr[85,Punjabi Bagh,3]: 132.2\n",
      "e_arr[85,Anand Vihar ISBT,3]: 136.0\n",
      "e_arr[85,Punjabi Bagh,4]: 70.0\n",
      "e_arr[85,Anand Vihar ISBT,4]: 73.8\n",
      "e_arr[85,Punjabi Bagh,0]: 309.0\n",
      "e_arr[448,Punjabi Bagh,1]: 259.6\n",
      "e_arr[448,Hauz Khas Metro,1]: 253.6\n",
      "e_arr[448,Punjabi Bagh,2]: 196.4\n",
      "e_arr[448,Hauz Khas Metro,2]: 251.8\n",
      "e_arr[448,Punjabi Bagh,3]: 133.2\n",
      "e_arr[448,Hauz Khas Metro,3]: 188.6\n",
      "e_arr[448,Punjabi Bagh,4]: 70.0\n",
      "e_arr[448,Hauz Khas Metro,4]: 125.4\n",
      "e_arr[448,Punjabi Bagh,0]: 309.0\n",
      "e_arr[479,Punjabi Bagh,1]: 250.4\n",
      "e_arr[479,Badarpur Border,1]: 244.4\n",
      "e_arr[479,Punjabi Bagh,2]: 160.2\n",
      "e_arr[479,Badarpur Border,2]: 224.8\n",
      "e_arr[479,Punjabi Bagh,3]: 70.0\n",
      "e_arr[479,Badarpur Border,3]: 134.6\n",
      "e_arr[479,Punjabi Bagh,0]: 309.0\n",
      "e_arr[610,Wazirpur Depot,1]: 272.0\n",
      "e_arr[610,RK Puram Sec-1,1]: 272.0\n",
      "e_arr[610,Wazirpur Depot,2]: 221.5\n",
      "e_arr[610,RK Puram Sec-1,2]: 229.0\n",
      "e_arr[610,Wazirpur Depot,3]: 171.0\n",
      "e_arr[610,RK Puram Sec-1,3]: 178.5\n",
      "e_arr[610,Wazirpur Depot,4]: 120.5\n",
      "e_arr[610,RK Puram Sec-1,4]: 128.0\n",
      "e_arr[610,Wazirpur Depot,5]: 70.0\n",
      "e_arr[610,RK Puram Sec-1,5]: 77.5\n",
      "e_arr[610,Wazirpur Depot,0]: 315.0\n",
      "e_arr[TMS (-),Wazirpur Depot,1]: 98.0\n",
      "e_arr[TMS (-),nan,1]: 177.0\n",
      "e_arr[TMS (-),Wazirpur Depot,2]: 117.75\n",
      "e_arr[TMS (-),nan,2]: 50.0\n",
      "e_arr[TMS (-),Wazirpur Depot,3]: 137.5\n",
      "e_arr[TMS (-),nan,3]: 69.75\n",
      "e_arr[TMS (-),Wazirpur Depot,4]: 157.25\n",
      "e_arr[TMS (-),nan,4]: 89.5\n",
      "e_arr[TMS (-),Wazirpur Depot,5]: 177.0\n",
      "e_arr[TMS (-),nan,5]: 109.25\n",
      "e_arr[TMS (-),Wazirpur Depot,0]: 225.0\n",
      "e_dep[73,P Shahni Chow,1]: 313.65\n",
      "e_dep[73,Anand Vihar ISBT,1]: 315.0\n",
      "e_dep[73,P Shahni Chow,2]: 266.9390476190475\n",
      "e_dep[73,Anand Vihar ISBT,2]: 252.93333333333334\n",
      "e_dep[73,P Shahni Chow,3]: 204.87238095238092\n",
      "e_dep[73,Anand Vihar ISBT,3]: 190.86666666666667\n",
      "e_dep[73,P Shahni Chow,4]: 142.8057142857142\n",
      "e_dep[73,Anand Vihar ISBT,4]: 128.8\n",
      "e_dep[234A,Tilak Nagar,1]: 313.05\n",
      "e_dep[234A,Harsh Vihar,1]: 315.0\n",
      "e_dep[234A,Tilak Nagar,2]: 311.25\n",
      "e_dep[234A,Harsh Vihar,2]: 265.25\n",
      "e_dep[234A,Tilak Nagar,3]: 261.5\n",
      "e_dep[234A,Harsh Vihar,3]: 215.5\n",
      "e_dep[234A,Tilak Nagar,4]: 211.75\n",
      "e_dep[234A,Harsh Vihar,4]: 165.75\n",
      "e_dep[234A,Tilak Nagar,5]: 162.0\n",
      "e_dep[234A,Harsh Vihar,5]: 116.0\n",
      "e_dep[588,Uttam Nagar,1]: 307.95\n",
      "e_dep[588,JLN Stadium,1]: 315.0\n",
      "e_dep[588,Uttam Nagar,2]: 308.0\n",
      "e_dep[588,JLN Stadium,2]: 273.0\n",
      "e_dep[588,Uttam Nagar,3]: 266.0\n",
      "e_dep[588,JLN Stadium,3]: 231.0\n",
      "e_dep[588,Uttam Nagar,4]: 224.0\n",
      "e_dep[588,JLN Stadium,4]: 189.0\n",
      "e_dep[588,Uttam Nagar,5]: 182.0\n",
      "e_dep[588,JLN Stadium,5]: 147.0\n",
      "e_dep[588,Uttam Nagar,6]: 140.0\n",
      "e_dep[588,JLN Stadium,6]: 105.0\n",
      "e_dep[879,Janak Puri D-Block,1]: 312.3\n",
      "e_dep[879,Rohini Sec-16,1]: 315.0\n",
      "e_dep[879,Janak Puri D-Block,2]: 309.06666666666666\n",
      "e_dep[879,Rohini Sec-16,2]: 252.26666666666668\n",
      "e_dep[879,Janak Puri D-Block,3]: 246.33333333333334\n",
      "e_dep[879,Rohini Sec-16,3]: 189.53333333333333\n",
      "e_dep[879,Janak Puri D-Block,4]: 183.6\n",
      "e_dep[879,Rohini Sec-16,4]: 126.8\n",
      "e_dep[835,Tilak Nagar,1]: 312.75\n",
      "e_dep[835,Dhansa Border,1]: 315.0\n",
      "e_dep[835,Tilak Nagar,2]: 311.73333333333335\n",
      "e_dep[835,Dhansa Border,2]: 252.93333333333334\n",
      "e_dep[835,Tilak Nagar,3]: 249.66666666666666\n",
      "e_dep[835,Dhansa Border,3]: 190.86666666666667\n",
      "e_dep[835,Tilak Nagar,4]: 187.6\n",
      "e_dep[835,Dhansa Border,4]: 128.8\n",
      "e_dep[OMS (+) & (-),Uttam Nagar,1]: 307.95\n",
      "e_dep[OMS (+) & (-),Anand Vihar ISBT,1]: 315.0\n",
      "e_dep[OMS (+) & (-),Uttam Nagar,2]: 228.2\n",
      "e_dep[OMS (+) & (-),Anand Vihar ISBT,2]: 168.0\n",
      "e_dep[405,Badarpur Border,1]: 303.45\n",
      "e_dep[405,Mori Gate,1]: 315.0\n",
      "e_dep[405,Badarpur Border,2]: 292.53333333333336\n",
      "e_dep[405,Mori Gate,2]: 248.13333333333333\n",
      "e_dep[405,Badarpur Border,3]: 225.66666666666666\n",
      "e_dep[405,Mori Gate,3]: 181.26666666666668\n",
      "e_dep[405,Badarpur Border,4]: 158.8\n",
      "e_dep[405,Mori Gate,4]: 114.4\n",
      "e_dep[433,Badarpur Border,1]: 303.45\n",
      "e_dep[433,ND Rly Station,1]: 315.0\n",
      "e_dep[433,Badarpur Border,2]: 304.53333333333336\n",
      "e_dep[433,ND Rly Station,2]: 251.13333333333333\n",
      "e_dep[433,Badarpur Border,3]: 240.66666666666666\n",
      "e_dep[433,ND Rly Station,3]: 187.26666666666668\n",
      "e_dep[433,Badarpur Border,4]: 176.8\n",
      "e_dep[433,ND Rly Station,4]: 123.4\n",
      "e_dep[460,Badarpur Border,1]: 303.45\n",
      "e_dep[460,Minto road,1]: 315.0\n",
      "e_dep[460,Badarpur Border,2]: 300.0\n",
      "e_dep[460,Minto road,2]: 250.0\n",
      "e_dep[460,Badarpur Border,3]: 235.0\n",
      "e_dep[460,Minto road,3]: 185.0\n",
      "e_dep[460,Badarpur Border,4]: 170.0\n",
      "e_dep[460,Minto road,4]: 120.0\n",
      "e_dep[473,Badarpur Border,1]: 303.45\n",
      "e_dep[473,Anand Vihar ISBT,1]: 315.0\n",
      "e_dep[473,Badarpur Border,2]: 259.0\n",
      "e_dep[473,Anand Vihar ISBT,2]: 252.0\n",
      "e_dep[473,Badarpur Border,3]: 196.0\n",
      "e_dep[473,Anand Vihar ISBT,3]: 189.0\n",
      "e_dep[473,Badarpur Border,4]: 133.0\n",
      "e_dep[473,Anand Vihar ISBT,4]: 126.0\n",
      "e_dep[507,Okhla Extn.,1]: 307.2\n",
      "e_dep[507,Dhaula Kuan,1]: 315.0\n",
      "e_dep[507,Okhla Extn.,2]: 298.93333333333334\n",
      "e_dep[507,Dhaula Kuan,2]: 249.73333333333332\n",
      "e_dep[507,Okhla Extn.,3]: 233.66666666666666\n",
      "e_dep[507,Dhaula Kuan,3]: 184.46666666666667\n",
      "e_dep[507,Okhla Extn.,4]: 168.4\n",
      "e_dep[507,Dhaula Kuan,4]: 119.2\n",
      "e_dep[544,Badarpur Border,1]: 213.45\n",
      "e_dep[544,RK Puram Sec-1 ,1]: 225.0\n",
      "e_dep[544,Badarpur Border,2]: 173.4\n",
      "e_dep[544,RK Puram Sec-1 ,2]: 225.0\n",
      "e_dep[544,Badarpur Border,3]: 173.4\n",
      "e_dep[544,RK Puram Sec-1 ,3]: 225.0\n",
      "e_dep[544,Badarpur Border,4]: 173.4\n",
      "e_dep[544,RK Puram Sec-1 ,4]: 225.0\n",
      "e_dep[39,Tri Nagar Market,1]: 311.4\n",
      "e_dep[39,Jheel,1]: 315.0\n",
      "e_dep[39,Tri Nagar Market,2]: 297.06666666666666\n",
      "e_dep[39,Jheel,2]: 249.26666666666668\n",
      "e_dep[39,Tri Nagar Market,3]: 231.33333333333334\n",
      "e_dep[39,Jheel,3]: 183.53333333333333\n",
      "e_dep[39,Tri Nagar Market,4]: 165.6\n",
      "e_dep[39,Jheel,4]: 117.8\n",
      "e_dep[85,Punjabi Bagh,1]: 309.0\n",
      "e_dep[85,Anand Vihar ISBT,1]: 315.0\n",
      "e_dep[85,Punjabi Bagh,2]: 256.6\n",
      "e_dep[85,Anand Vihar ISBT,2]: 252.8\n",
      "e_dep[85,Punjabi Bagh,3]: 194.4\n",
      "e_dep[85,Anand Vihar ISBT,3]: 190.6\n",
      "e_dep[85,Punjabi Bagh,4]: 132.2\n",
      "e_dep[85,Anand Vihar ISBT,4]: 128.4\n",
      "e_dep[448,Punjabi Bagh,1]: 309.0\n",
      "e_dep[448,Hauz Khas Metro,1]: 315.0\n",
      "e_dep[448,Punjabi Bagh,2]: 307.2\n",
      "e_dep[448,Hauz Khas Metro,2]: 251.8\n",
      "e_dep[448,Punjabi Bagh,3]: 244.0\n",
      "e_dep[448,Hauz Khas Metro,3]: 188.6\n",
      "e_dep[448,Punjabi Bagh,4]: 180.8\n",
      "e_dep[448,Hauz Khas Metro,4]: 125.4\n",
      "e_dep[479,Punjabi Bagh,1]: 309.0\n",
      "e_dep[479,Badarpur Border,1]: 315.0\n",
      "e_dep[479,Punjabi Bagh,2]: 289.4\n",
      "e_dep[479,Badarpur Border,2]: 224.8\n",
      "e_dep[479,Punjabi Bagh,3]: 199.2\n",
      "e_dep[479,Badarpur Border,3]: 134.6\n",
      "e_dep[610,Wazirpur Depot,1]: 315.0\n",
      "e_dep[610,RK Puram Sec-1,1]: 315.0\n",
      "e_dep[610,Wazirpur Depot,2]: 272.0\n",
      "e_dep[610,RK Puram Sec-1,2]: 264.5\n",
      "e_dep[610,Wazirpur Depot,3]: 221.5\n",
      "e_dep[610,RK Puram Sec-1,3]: 214.0\n",
      "e_dep[610,Wazirpur Depot,4]: 171.0\n",
      "e_dep[610,RK Puram Sec-1,4]: 163.5\n",
      "e_dep[610,Wazirpur Depot,5]: 120.5\n",
      "e_dep[610,RK Puram Sec-1,5]: 113.0\n",
      "e_dep[TMS (-),Wazirpur Depot,1]: 225.0\n",
      "e_dep[TMS (-),nan,1]: 146.0\n",
      "e_dep[TMS (-),Wazirpur Depot,2]: 98.0\n",
      "e_dep[TMS (-),nan,2]: 165.75\n",
      "e_dep[TMS (-),Wazirpur Depot,3]: 117.75\n",
      "e_dep[TMS (-),nan,3]: 185.5\n",
      "e_dep[TMS (-),Wazirpur Depot,4]: 137.5\n",
      "e_dep[TMS (-),nan,4]: 205.25\n",
      "e_dep[TMS (-),Wazirpur Depot,5]: 157.25\n",
      "e_dep[TMS (-),nan,5]: 225.0\n",
      "enr_t[73,P Shahni Chow]: 10.739047619047554\n",
      "enr_t[73,Anand Vihar ISBT]: 44.79428571428578\n",
      "enr_t[234A,Tilak Nagar]: 42.25\n",
      "enr_t[234A,Harsh Vihar]: 0.0\n",
      "enr_t[588,Uttam Nagar]: 28.0\n",
      "enr_t[588,JLN Stadium]: 0.0\n",
      "enr_t[879,Janak Puri D-Block]: 50.86666666666667\n",
      "enr_t[879,Rohini Sec-16]: 0.0\n",
      "enr_t[835,Tilak Nagar]: 55.53333333333333\n",
      "enr_t[835,Dhansa Border]: 0.0\n",
      "enr_t[OMS (+) & (-),Uttam Nagar]: 11.199999999999989\n",
      "enr_t[OMS (+) & (-),Anand Vihar ISBT]: 37.8\n",
      "enr_t[405,Badarpur Border]: 21.933333333333334\n",
      "enr_t[405,Mori Gate]: 0.0\n",
      "enr_t[433,Badarpur Border]: 42.93333333333333\n",
      "enr_t[433,ND Rly Station]: 0.0\n",
      "enr_t[460,Badarpur Border]: 35.0\n",
      "enr_t[460,Minto road]: 0.0\n",
      "enr_t[473,Badarpur Border]: 0.0\n",
      "enr_t[473,Anand Vihar ISBT]: 49.0\n",
      "enr_t[507,Okhla Extn.]: 33.133333333333326\n",
      "enr_t[507,Dhaula Kuan]: 0.0\n",
      "enr_t[544,Badarpur Border]: 0.0\n",
      "enr_t[544,RK Puram Sec-1 ]: 103.2\n",
      "enr_t[39,Tri Nagar Market]: 29.866666666666667\n",
      "enr_t[39,Jheel]: 0.0\n",
      "enr_t[85,Punjabi Bagh]: 0.0\n",
      "enr_t[85,Anand Vihar ISBT]: 54.6\n",
      "enr_t[448,Punjabi Bagh]: 47.6\n",
      "enr_t[448,Hauz Khas Metro]: 0.0\n",
      "enr_t[479,Punjabi Bagh]: 39.0\n",
      "enr_t[479,Badarpur Border]: 0.0\n",
      "enr_t[610,Wazirpur Depot]: 0.0\n",
      "enr_t[610,RK Puram Sec-1]: 35.5\n",
      "enr_t[TMS (-),Wazirpur Depot]: 0.0\n",
      "enr_t[TMS (-),nan]: 115.75\n",
      "enr_d[73,Hari Nagar]: 246.35\n",
      "enr_d[234A,Hari Nagar]: 246.95\n",
      "enr_d[588,Hari Nagar]: 252.05\n",
      "enr_d[879,Hari Nagar]: 247.7\n",
      "enr_d[835,Hari Nagar]: 247.25\n",
      "enr_d[OMS (+) & (-),Hari Nagar]: 252.05\n",
      "enr_d[405,Sukhdev Vihar]: 256.55\n",
      "enr_d[433,Sukhdev Vihar]: 256.55\n",
      "enr_d[460,Sukhdev Vihar]: 256.55\n",
      "enr_d[473,Sukhdev Vihar]: 256.55\n",
      "enr_d[507,Sukhdev Vihar]: 252.8\n",
      "enr_d[544,Sukhdev Vihar]: 63.14999999999999\n",
      "enr_d[39,Subhash Place]: 248.6\n",
      "enr_d[85,Subhash Place]: 251.0\n",
      "enr_d[448,Subhash Place]: 251.0\n",
      "enr_d[479,Subhash Place]: 251.0\n",
      "enr_d[610,Subhash Place]: 245.0\n",
      "enr_d[TMS (-),Subhash Place]: 48.0\n",
      "Computational time: 0.04896712303161621 seconds\n"
     ]
    }
   ],
   "source": [
    "if mod.status == gp.GRB.Status.OPTIMAL:\n",
    "    # Get the final objective function value\n",
    "    objective_value = mod.objVal\n",
    "    print(\"Optimal objective value: $\", objective_value)\n",
    "\n",
    "    # Get the values of the decision variables\n",
    "    for v in mod.getVars():\n",
    "        print(f\"{v.varName}: {v.x}\")\n",
    "    \n",
    "    print(f\"Computational time: {mod.Runtime} seconds\")\n",
    "else:\n",
    "    print(\"No optimal solution found.\")"
   ]
  }
 ],
 "metadata": {
  "colab": {
   "provenance": []
  },
  "kernelspec": {
   "display_name": "Python [conda env:base] *",
   "language": "python",
   "name": "conda-base-py"
  },
  "language_info": {
   "codemirror_mode": {
    "name": "ipython",
    "version": 3
   },
   "file_extension": ".py",
   "mimetype": "text/x-python",
   "name": "python",
   "nbconvert_exporter": "python",
   "pygments_lexer": "ipython3",
   "version": "3.11.5"
  }
 },
 "nbformat": 4,
 "nbformat_minor": 4
}
